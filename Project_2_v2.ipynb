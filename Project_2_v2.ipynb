{
 "cells": [
  {
   "cell_type": "markdown",
   "metadata": {},
   "source": [
    "# Data Pipeline \n",
    "\n",
    "http://archive.ics.uci.edu/ml/datasets/Car+Evaluation"
   ]
  },
  {
   "cell_type": "code",
   "execution_count": 81,
   "metadata": {},
   "outputs": [],
   "source": [
    "#Attribute Information:\n",
    "\n",
    "#Class Values:\n",
    "\n",
    "#unacc, acc, good, vgood\n",
    "\n",
    "#Attributes:\n",
    "\n",
    "#buying: vhigh, high, med, low.\n",
    "#maint: vhigh, high, med, low.\n",
    "#doors: 2, 3, 4, 5more.\n",
    "#persons: 2, 4, more.\n",
    "#lug_boot: small, med, big.\n",
    "#safety: low, med, high."
   ]
  },
  {
   "cell_type": "markdown",
   "metadata": {},
   "source": [
    "# Goal\n",
    "Build an end-to-end machine learning \"pipeline\", that performs everything you need to achieve the prediction goal, from the raw data, to predicted results\n",
    "\n",
    "### OPTIONAL \n",
    "Pipline: Luigi, Airflow\n",
    "\n",
    "Take raw data to forcasted numbers"
   ]
  },
  {
   "cell_type": "code",
   "execution_count": 50,
   "metadata": {},
   "outputs": [
    {
     "name": "stdout",
     "output_type": "stream",
     "text": [
      "Populating the interactive namespace from numpy and matplotlib\n"
     ]
    }
   ],
   "source": [
    "import numpy as np\n",
    "import pandas as pd\n",
    "from sklearn import datasets\n",
    "from sklearn import metrics\n",
    "%pylab inline"
   ]
  },
  {
   "cell_type": "code",
   "execution_count": 51,
   "metadata": {},
   "outputs": [],
   "source": [
    "df = pd.read_csv('car_data.csv', header = None)"
   ]
  },
  {
   "cell_type": "code",
   "execution_count": 52,
   "metadata": {},
   "outputs": [
    {
     "data": {
      "text/html": [
       "<div>\n",
       "<style scoped>\n",
       "    .dataframe tbody tr th:only-of-type {\n",
       "        vertical-align: middle;\n",
       "    }\n",
       "\n",
       "    .dataframe tbody tr th {\n",
       "        vertical-align: top;\n",
       "    }\n",
       "\n",
       "    .dataframe thead th {\n",
       "        text-align: right;\n",
       "    }\n",
       "</style>\n",
       "<table border=\"1\" class=\"dataframe\">\n",
       "  <thead>\n",
       "    <tr style=\"text-align: right;\">\n",
       "      <th></th>\n",
       "      <th>Buying</th>\n",
       "      <th>Maintainence</th>\n",
       "      <th>Doors</th>\n",
       "      <th>Persons</th>\n",
       "      <th>Lug Boot</th>\n",
       "      <th>Safety</th>\n",
       "      <th>Class</th>\n",
       "    </tr>\n",
       "  </thead>\n",
       "  <tbody>\n",
       "    <tr>\n",
       "      <th>0</th>\n",
       "      <td>vhigh</td>\n",
       "      <td>vhigh</td>\n",
       "      <td>2</td>\n",
       "      <td>2</td>\n",
       "      <td>small</td>\n",
       "      <td>low</td>\n",
       "      <td>unacc</td>\n",
       "    </tr>\n",
       "    <tr>\n",
       "      <th>1</th>\n",
       "      <td>vhigh</td>\n",
       "      <td>vhigh</td>\n",
       "      <td>2</td>\n",
       "      <td>2</td>\n",
       "      <td>small</td>\n",
       "      <td>med</td>\n",
       "      <td>unacc</td>\n",
       "    </tr>\n",
       "    <tr>\n",
       "      <th>2</th>\n",
       "      <td>vhigh</td>\n",
       "      <td>vhigh</td>\n",
       "      <td>2</td>\n",
       "      <td>2</td>\n",
       "      <td>small</td>\n",
       "      <td>high</td>\n",
       "      <td>unacc</td>\n",
       "    </tr>\n",
       "    <tr>\n",
       "      <th>3</th>\n",
       "      <td>vhigh</td>\n",
       "      <td>vhigh</td>\n",
       "      <td>2</td>\n",
       "      <td>2</td>\n",
       "      <td>med</td>\n",
       "      <td>low</td>\n",
       "      <td>unacc</td>\n",
       "    </tr>\n",
       "    <tr>\n",
       "      <th>4</th>\n",
       "      <td>vhigh</td>\n",
       "      <td>vhigh</td>\n",
       "      <td>2</td>\n",
       "      <td>2</td>\n",
       "      <td>med</td>\n",
       "      <td>med</td>\n",
       "      <td>unacc</td>\n",
       "    </tr>\n",
       "  </tbody>\n",
       "</table>\n",
       "</div>"
      ],
      "text/plain": [
       "  Buying Maintainence Doors Persons Lug Boot Safety  Class\n",
       "0  vhigh        vhigh     2       2    small    low  unacc\n",
       "1  vhigh        vhigh     2       2    small    med  unacc\n",
       "2  vhigh        vhigh     2       2    small   high  unacc\n",
       "3  vhigh        vhigh     2       2      med    low  unacc\n",
       "4  vhigh        vhigh     2       2      med    med  unacc"
      ]
     },
     "execution_count": 52,
     "metadata": {},
     "output_type": "execute_result"
    }
   ],
   "source": [
    "# Rename Columns\n",
    "\n",
    "columns1 = ['Buying','Maintainence','Doors','Persons','Lug Boot','Safety','Class']\n",
    "df.columns = columns1\n",
    "df.head(5)"
   ]
  },
  {
   "cell_type": "code",
   "execution_count": 33,
   "metadata": {},
   "outputs": [
    {
     "data": {
      "text/plain": [
       "Buying          object\n",
       "Maintainence    object\n",
       "Doors           object\n",
       "Persons         object\n",
       "Lug Boot        object\n",
       "Safety          object\n",
       "Class           object\n",
       "dtype: object"
      ]
     },
     "execution_count": 33,
     "metadata": {},
     "output_type": "execute_result"
    }
   ],
   "source": [
    "df.dtypes"
   ]
  },
  {
   "cell_type": "code",
   "execution_count": 34,
   "metadata": {},
   "outputs": [
    {
     "data": {
      "text/plain": [
       "Buying          0\n",
       "Maintainence    0\n",
       "Doors           0\n",
       "Persons         0\n",
       "Lug Boot        0\n",
       "Safety          0\n",
       "Class           0\n",
       "dtype: int64"
      ]
     },
     "execution_count": 34,
     "metadata": {},
     "output_type": "execute_result"
    }
   ],
   "source": [
    "# check for null\n",
    "df.isnull().sum()"
   ]
  },
  {
   "cell_type": "code",
   "execution_count": 35,
   "metadata": {},
   "outputs": [],
   "source": [
    "y = df['Class']"
   ]
  },
  {
   "cell_type": "code",
   "execution_count": 75,
   "metadata": {},
   "outputs": [
    {
     "data": {
      "text/plain": [
       "<matplotlib.axes._subplots.AxesSubplot at 0x1a23f6fda0>"
      ]
     },
     "execution_count": 75,
     "metadata": {},
     "output_type": "execute_result"
    },
    {
     "data": {
      "image/png": "[encoded data removed]",
      "text/plain": [
       "<Figure size 432x288 with 1 Axes>"
      ]
     },
     "metadata": {},
     "output_type": "display_data"
    }
   ],
   "source": [
    "import seaborn as sns\n",
    "sns.set(style=\"whitegrid\")\n",
    "sns.countplot(x=\"Class\", hue=\"Safety\",data=df)"
   ]
  },
  {
   "cell_type": "code",
   "execution_count": 88,
   "metadata": {},
   "outputs": [
    {
     "data": {
      "text/plain": [
       "<matplotlib.axes._subplots.AxesSubplot at 0x1a243c45c0>"
      ]
     },
     "execution_count": 88,
     "metadata": {},
     "output_type": "execute_result"
    },
    {
     "data": {
      "image/png": "[encoded data removed]",
      "text/plain": [
       "<Figure size 432x288 with 1 Axes>"
      ]
     },
     "metadata": {},
     "output_type": "display_data"
    }
   ],
   "source": [
    "sns.set(style=\"whitegrid\")\n",
    "sns.countplot(x=\"Class\", hue=\"Buying\", data=df)"
   ]
  },
  {
   "cell_type": "markdown",
   "metadata": {},
   "source": [
    "## Preprocessing Data"
   ]
  },
  {
   "cell_type": "code",
   "execution_count": 89,
   "metadata": {},
   "outputs": [
    {
     "data": {
      "text/html": [
       "<div>\n",
       "<style scoped>\n",
       "    .dataframe tbody tr th:only-of-type {\n",
       "        vertical-align: middle;\n",
       "    }\n",
       "\n",
       "    .dataframe tbody tr th {\n",
       "        vertical-align: top;\n",
       "    }\n",
       "\n",
       "    .dataframe thead th {\n",
       "        text-align: right;\n",
       "    }\n",
       "</style>\n",
       "<table border=\"1\" class=\"dataframe\">\n",
       "  <thead>\n",
       "    <tr style=\"text-align: right;\">\n",
       "      <th></th>\n",
       "      <th>Buying</th>\n",
       "      <th>Maintainence</th>\n",
       "      <th>Doors</th>\n",
       "      <th>Persons</th>\n",
       "      <th>Lug Boot</th>\n",
       "      <th>Safety</th>\n",
       "      <th>Class</th>\n",
       "    </tr>\n",
       "  </thead>\n",
       "  <tbody>\n",
       "    <tr>\n",
       "      <th>0</th>\n",
       "      <td>vhigh</td>\n",
       "      <td>vhigh</td>\n",
       "      <td>2</td>\n",
       "      <td>2</td>\n",
       "      <td>small</td>\n",
       "      <td>low</td>\n",
       "      <td>unacc</td>\n",
       "    </tr>\n",
       "    <tr>\n",
       "      <th>1</th>\n",
       "      <td>vhigh</td>\n",
       "      <td>vhigh</td>\n",
       "      <td>2</td>\n",
       "      <td>2</td>\n",
       "      <td>small</td>\n",
       "      <td>med</td>\n",
       "      <td>unacc</td>\n",
       "    </tr>\n",
       "    <tr>\n",
       "      <th>2</th>\n",
       "      <td>vhigh</td>\n",
       "      <td>vhigh</td>\n",
       "      <td>2</td>\n",
       "      <td>2</td>\n",
       "      <td>small</td>\n",
       "      <td>high</td>\n",
       "      <td>unacc</td>\n",
       "    </tr>\n",
       "    <tr>\n",
       "      <th>3</th>\n",
       "      <td>vhigh</td>\n",
       "      <td>vhigh</td>\n",
       "      <td>2</td>\n",
       "      <td>2</td>\n",
       "      <td>med</td>\n",
       "      <td>low</td>\n",
       "      <td>unacc</td>\n",
       "    </tr>\n",
       "    <tr>\n",
       "      <th>4</th>\n",
       "      <td>vhigh</td>\n",
       "      <td>vhigh</td>\n",
       "      <td>2</td>\n",
       "      <td>2</td>\n",
       "      <td>med</td>\n",
       "      <td>med</td>\n",
       "      <td>unacc</td>\n",
       "    </tr>\n",
       "  </tbody>\n",
       "</table>\n",
       "</div>"
      ],
      "text/plain": [
       "  Buying Maintainence Doors Persons Lug Boot Safety  Class\n",
       "0  vhigh        vhigh     2       2    small    low  unacc\n",
       "1  vhigh        vhigh     2       2    small    med  unacc\n",
       "2  vhigh        vhigh     2       2    small   high  unacc\n",
       "3  vhigh        vhigh     2       2      med    low  unacc\n",
       "4  vhigh        vhigh     2       2      med    med  unacc"
      ]
     },
     "execution_count": 89,
     "metadata": {},
     "output_type": "execute_result"
    }
   ],
   "source": [
    "df1 = df.copy()\n",
    "df1.head()"
   ]
  },
  {
   "cell_type": "code",
   "execution_count": 90,
   "metadata": {},
   "outputs": [],
   "source": [
    "df1.drop(['Class'], axis=1, inplace=True)"
   ]
  },
  {
   "cell_type": "code",
   "execution_count": 91,
   "metadata": {},
   "outputs": [
    {
     "data": {
      "text/html": [
       "<div>\n",
       "<style scoped>\n",
       "    .dataframe tbody tr th:only-of-type {\n",
       "        vertical-align: middle;\n",
       "    }\n",
       "\n",
       "    .dataframe tbody tr th {\n",
       "        vertical-align: top;\n",
       "    }\n",
       "\n",
       "    .dataframe thead th {\n",
       "        text-align: right;\n",
       "    }\n",
       "</style>\n",
       "<table border=\"1\" class=\"dataframe\">\n",
       "  <thead>\n",
       "    <tr style=\"text-align: right;\">\n",
       "      <th></th>\n",
       "      <th>Buying</th>\n",
       "      <th>Maintainence</th>\n",
       "      <th>Doors</th>\n",
       "      <th>Persons</th>\n",
       "      <th>Lug Boot</th>\n",
       "      <th>Safety</th>\n",
       "    </tr>\n",
       "  </thead>\n",
       "  <tbody>\n",
       "    <tr>\n",
       "      <th>0</th>\n",
       "      <td>vhigh</td>\n",
       "      <td>vhigh</td>\n",
       "      <td>2</td>\n",
       "      <td>2</td>\n",
       "      <td>small</td>\n",
       "      <td>low</td>\n",
       "    </tr>\n",
       "    <tr>\n",
       "      <th>1</th>\n",
       "      <td>vhigh</td>\n",
       "      <td>vhigh</td>\n",
       "      <td>2</td>\n",
       "      <td>2</td>\n",
       "      <td>small</td>\n",
       "      <td>med</td>\n",
       "    </tr>\n",
       "    <tr>\n",
       "      <th>2</th>\n",
       "      <td>vhigh</td>\n",
       "      <td>vhigh</td>\n",
       "      <td>2</td>\n",
       "      <td>2</td>\n",
       "      <td>small</td>\n",
       "      <td>high</td>\n",
       "    </tr>\n",
       "    <tr>\n",
       "      <th>3</th>\n",
       "      <td>vhigh</td>\n",
       "      <td>vhigh</td>\n",
       "      <td>2</td>\n",
       "      <td>2</td>\n",
       "      <td>med</td>\n",
       "      <td>low</td>\n",
       "    </tr>\n",
       "    <tr>\n",
       "      <th>4</th>\n",
       "      <td>vhigh</td>\n",
       "      <td>vhigh</td>\n",
       "      <td>2</td>\n",
       "      <td>2</td>\n",
       "      <td>med</td>\n",
       "      <td>med</td>\n",
       "    </tr>\n",
       "  </tbody>\n",
       "</table>\n",
       "</div>"
      ],
      "text/plain": [
       "  Buying Maintainence Doors Persons Lug Boot Safety\n",
       "0  vhigh        vhigh     2       2    small    low\n",
       "1  vhigh        vhigh     2       2    small    med\n",
       "2  vhigh        vhigh     2       2    small   high\n",
       "3  vhigh        vhigh     2       2      med    low\n",
       "4  vhigh        vhigh     2       2      med    med"
      ]
     },
     "execution_count": 91,
     "metadata": {},
     "output_type": "execute_result"
    }
   ],
   "source": [
    "df1.head()"
   ]
  },
  {
   "cell_type": "code",
   "execution_count": 92,
   "metadata": {},
   "outputs": [],
   "source": [
    "# Convert our categorical data\n",
    "\n",
    "from sklearn.preprocessing import LabelEncoder\n",
    "encode = LabelEncoder()\n",
    "\n",
    "df1['Buying'] = encode.fit_transform(df1['Buying'])\n",
    "df1['Maintainence'] = encode.fit_transform(df1['Maintainence'])\n",
    "df1['Doors'] = encode.fit_transform(df1['Doors'])\n",
    "df1['Persons'] = encode.fit_transform(df1['Persons'])\n",
    "df1['Lug Boot'] = encode.fit_transform(df1['Lug Boot'])\n",
    "df1['Safety'] = encode.fit_transform(df1['Safety'])\n",
    "#df['Class'] = encode.fit_transform(df['Class'])\n"
   ]
  },
  {
   "cell_type": "code",
   "execution_count": 93,
   "metadata": {},
   "outputs": [
    {
     "data": {
      "text/html": [
       "<div>\n",
       "<style scoped>\n",
       "    .dataframe tbody tr th:only-of-type {\n",
       "        vertical-align: middle;\n",
       "    }\n",
       "\n",
       "    .dataframe tbody tr th {\n",
       "        vertical-align: top;\n",
       "    }\n",
       "\n",
       "    .dataframe thead th {\n",
       "        text-align: right;\n",
       "    }\n",
       "</style>\n",
       "<table border=\"1\" class=\"dataframe\">\n",
       "  <thead>\n",
       "    <tr style=\"text-align: right;\">\n",
       "      <th></th>\n",
       "      <th>Buying</th>\n",
       "      <th>Maintainence</th>\n",
       "      <th>Doors</th>\n",
       "      <th>Persons</th>\n",
       "      <th>Lug Boot</th>\n",
       "      <th>Safety</th>\n",
       "    </tr>\n",
       "  </thead>\n",
       "  <tbody>\n",
       "    <tr>\n",
       "      <th>0</th>\n",
       "      <td>3</td>\n",
       "      <td>3</td>\n",
       "      <td>0</td>\n",
       "      <td>0</td>\n",
       "      <td>2</td>\n",
       "      <td>1</td>\n",
       "    </tr>\n",
       "    <tr>\n",
       "      <th>1</th>\n",
       "      <td>3</td>\n",
       "      <td>3</td>\n",
       "      <td>0</td>\n",
       "      <td>0</td>\n",
       "      <td>2</td>\n",
       "      <td>2</td>\n",
       "    </tr>\n",
       "    <tr>\n",
       "      <th>2</th>\n",
       "      <td>3</td>\n",
       "      <td>3</td>\n",
       "      <td>0</td>\n",
       "      <td>0</td>\n",
       "      <td>2</td>\n",
       "      <td>0</td>\n",
       "    </tr>\n",
       "    <tr>\n",
       "      <th>3</th>\n",
       "      <td>3</td>\n",
       "      <td>3</td>\n",
       "      <td>0</td>\n",
       "      <td>0</td>\n",
       "      <td>1</td>\n",
       "      <td>1</td>\n",
       "    </tr>\n",
       "    <tr>\n",
       "      <th>4</th>\n",
       "      <td>3</td>\n",
       "      <td>3</td>\n",
       "      <td>0</td>\n",
       "      <td>0</td>\n",
       "      <td>1</td>\n",
       "      <td>2</td>\n",
       "    </tr>\n",
       "  </tbody>\n",
       "</table>\n",
       "</div>"
      ],
      "text/plain": [
       "   Buying  Maintainence  Doors  Persons  Lug Boot  Safety\n",
       "0       3             3      0        0         2       1\n",
       "1       3             3      0        0         2       2\n",
       "2       3             3      0        0         2       0\n",
       "3       3             3      0        0         1       1\n",
       "4       3             3      0        0         1       2"
      ]
     },
     "execution_count": 93,
     "metadata": {},
     "output_type": "execute_result"
    }
   ],
   "source": [
    "df1.head()"
   ]
  },
  {
   "cell_type": "code",
   "execution_count": 118,
   "metadata": {},
   "outputs": [
    {
     "data": {
      "text/html": [
       "<div>\n",
       "<style scoped>\n",
       "    .dataframe tbody tr th:only-of-type {\n",
       "        vertical-align: middle;\n",
       "    }\n",
       "\n",
       "    .dataframe tbody tr th {\n",
       "        vertical-align: top;\n",
       "    }\n",
       "\n",
       "    .dataframe thead th {\n",
       "        text-align: right;\n",
       "    }\n",
       "</style>\n",
       "<table border=\"1\" class=\"dataframe\">\n",
       "  <thead>\n",
       "    <tr style=\"text-align: right;\">\n",
       "      <th></th>\n",
       "      <th>Buying</th>\n",
       "      <th>Maintainence</th>\n",
       "      <th>Doors</th>\n",
       "      <th>Persons</th>\n",
       "      <th>Lug Boot</th>\n",
       "      <th>Safety</th>\n",
       "    </tr>\n",
       "  </thead>\n",
       "  <tbody>\n",
       "    <tr>\n",
       "      <th>count</th>\n",
       "      <td>1728.000000</td>\n",
       "      <td>1728.000000</td>\n",
       "      <td>1728.000000</td>\n",
       "      <td>1728.000000</td>\n",
       "      <td>1728.000000</td>\n",
       "      <td>1728.000000</td>\n",
       "    </tr>\n",
       "    <tr>\n",
       "      <th>mean</th>\n",
       "      <td>1.500000</td>\n",
       "      <td>1.500000</td>\n",
       "      <td>1.500000</td>\n",
       "      <td>1.000000</td>\n",
       "      <td>1.000000</td>\n",
       "      <td>1.000000</td>\n",
       "    </tr>\n",
       "    <tr>\n",
       "      <th>std</th>\n",
       "      <td>1.118358</td>\n",
       "      <td>1.118358</td>\n",
       "      <td>1.118358</td>\n",
       "      <td>0.816733</td>\n",
       "      <td>0.816733</td>\n",
       "      <td>0.816733</td>\n",
       "    </tr>\n",
       "    <tr>\n",
       "      <th>min</th>\n",
       "      <td>0.000000</td>\n",
       "      <td>0.000000</td>\n",
       "      <td>0.000000</td>\n",
       "      <td>0.000000</td>\n",
       "      <td>0.000000</td>\n",
       "      <td>0.000000</td>\n",
       "    </tr>\n",
       "    <tr>\n",
       "      <th>25%</th>\n",
       "      <td>0.750000</td>\n",
       "      <td>0.750000</td>\n",
       "      <td>0.750000</td>\n",
       "      <td>0.000000</td>\n",
       "      <td>0.000000</td>\n",
       "      <td>0.000000</td>\n",
       "    </tr>\n",
       "    <tr>\n",
       "      <th>50%</th>\n",
       "      <td>1.500000</td>\n",
       "      <td>1.500000</td>\n",
       "      <td>1.500000</td>\n",
       "      <td>1.000000</td>\n",
       "      <td>1.000000</td>\n",
       "      <td>1.000000</td>\n",
       "    </tr>\n",
       "    <tr>\n",
       "      <th>75%</th>\n",
       "      <td>2.250000</td>\n",
       "      <td>2.250000</td>\n",
       "      <td>2.250000</td>\n",
       "      <td>2.000000</td>\n",
       "      <td>2.000000</td>\n",
       "      <td>2.000000</td>\n",
       "    </tr>\n",
       "    <tr>\n",
       "      <th>max</th>\n",
       "      <td>3.000000</td>\n",
       "      <td>3.000000</td>\n",
       "      <td>3.000000</td>\n",
       "      <td>2.000000</td>\n",
       "      <td>2.000000</td>\n",
       "      <td>2.000000</td>\n",
       "    </tr>\n",
       "  </tbody>\n",
       "</table>\n",
       "</div>"
      ],
      "text/plain": [
       "            Buying  Maintainence        Doors      Persons     Lug Boot  \\\n",
       "count  1728.000000   1728.000000  1728.000000  1728.000000  1728.000000   \n",
       "mean      1.500000      1.500000     1.500000     1.000000     1.000000   \n",
       "std       1.118358      1.118358     1.118358     0.816733     0.816733   \n",
       "min       0.000000      0.000000     0.000000     0.000000     0.000000   \n",
       "25%       0.750000      0.750000     0.750000     0.000000     0.000000   \n",
       "50%       1.500000      1.500000     1.500000     1.000000     1.000000   \n",
       "75%       2.250000      2.250000     2.250000     2.000000     2.000000   \n",
       "max       3.000000      3.000000     3.000000     2.000000     2.000000   \n",
       "\n",
       "            Safety  \n",
       "count  1728.000000  \n",
       "mean      1.000000  \n",
       "std       0.816733  \n",
       "min       0.000000  \n",
       "25%       0.000000  \n",
       "50%       1.000000  \n",
       "75%       2.000000  \n",
       "max       2.000000  "
      ]
     },
     "execution_count": 118,
     "metadata": {},
     "output_type": "execute_result"
    }
   ],
   "source": [
    "df1.describe()"
   ]
  },
  {
   "cell_type": "markdown",
   "metadata": {},
   "source": [
    "## Explore the Data"
   ]
  },
  {
   "cell_type": "code",
   "execution_count": 94,
   "metadata": {},
   "outputs": [],
   "source": [
    "import seaborn as sns\n",
    "\n",
    "sns.set(style=\"whitegrid\")"
   ]
  },
  {
   "cell_type": "code",
   "execution_count": 97,
   "metadata": {},
   "outputs": [
    {
     "name": "stderr",
     "output_type": "stream",
     "text": [
      "/anaconda3/lib/python3.6/site-packages/matplotlib/axes/_axes.py:6462: UserWarning: The 'normed' kwarg is deprecated, and has been replaced by the 'density' kwarg.\n",
      "  warnings.warn(\"The 'normed' kwarg is deprecated, and has been \"\n"
     ]
    },
    {
     "data": {
      "text/plain": [
       "<matplotlib.axes._subplots.AxesSubplot at 0x1a245469b0>"
      ]
     },
     "execution_count": 97,
     "metadata": {},
     "output_type": "execute_result"
    },
    {
     "data": {
      "image/png": "[encoded data removed]",
      "text/plain": [
       "<Figure size 432x288 with 1 Axes>"
      ]
     },
     "metadata": {},
     "output_type": "display_data"
    }
   ],
   "source": [
    "sns.distplot(df1['Buying'])"
   ]
  },
  {
   "cell_type": "code",
   "execution_count": 99,
   "metadata": {},
   "outputs": [
    {
     "data": {
      "text/plain": [
       "<matplotlib.axes._subplots.AxesSubplot at 0x1a246bfef0>"
      ]
     },
     "execution_count": 99,
     "metadata": {},
     "output_type": "execute_result"
    },
    {
     "data": {
      "image/png": "[encoded data removed]",
      "text/plain": [
       "<Figure size 432x288 with 1 Axes>"
      ]
     },
     "metadata": {},
     "output_type": "display_data"
    }
   ],
   "source": [
    "sns.barplot(data=df1, orient=\"h\")"
   ]
  },
  {
   "cell_type": "code",
   "execution_count": 100,
   "metadata": {
    "scrolled": true
   },
   "outputs": [
    {
     "data": {
      "text/plain": [
       "<matplotlib.axes._subplots.AxesSubplot at 0x1a247bae10>"
      ]
     },
     "execution_count": 100,
     "metadata": {},
     "output_type": "execute_result"
    },
    {
     "data": {
      "image/png": "[encoded data removed]",
      "text/plain": [
       "<Figure size 432x288 with 1 Axes>"
      ]
     },
     "metadata": {},
     "output_type": "display_data"
    }
   ],
   "source": [
    "sns.boxplot(data=df1)"
   ]
  },
  {
   "cell_type": "markdown",
   "metadata": {},
   "source": [
    "## Split into train and test data"
   ]
  },
  {
   "cell_type": "code",
   "execution_count": 128,
   "metadata": {},
   "outputs": [],
   "source": [
    "from sklearn import datasets\n",
    "from sklearn.model_selection import train_test_split"
   ]
  },
  {
   "cell_type": "code",
   "execution_count": 129,
   "metadata": {},
   "outputs": [],
   "source": [
    "X_train,X_test,y_train,y_test = train_test_split(df1,y,test_size = 0.3, random_state = 10)"
   ]
  },
  {
   "cell_type": "code",
   "execution_count": 130,
   "metadata": {
    "scrolled": true
   },
   "outputs": [
    {
     "name": "stdout",
     "output_type": "stream",
     "text": [
      "(1209, 6)\n",
      "(519, 6)\n",
      "(1209,)\n",
      "(519,)\n"
     ]
    }
   ],
   "source": [
    "print(X_train.shape)\n",
    "print(X_test.shape)\n",
    "print(y_train.shape)\n",
    "print(y_test.shape)"
   ]
  },
  {
   "cell_type": "markdown",
   "metadata": {},
   "source": [
    "## Logistic Regression"
   ]
  },
  {
   "cell_type": "code",
   "execution_count": 131,
   "metadata": {},
   "outputs": [
    {
     "data": {
      "text/plain": [
       "LogisticRegression(C=1.0, class_weight=None, dual=False, fit_intercept=True,\n",
       "          intercept_scaling=1, max_iter=100, multi_class='ovr', n_jobs=1,\n",
       "          penalty='l2', random_state=None, solver='liblinear', tol=0.0001,\n",
       "          verbose=0, warm_start=False)"
      ]
     },
     "execution_count": 131,
     "metadata": {},
     "output_type": "execute_result"
    }
   ],
   "source": [
    "from sklearn.linear_model import LogisticRegression\n",
    "\n",
    "logit = LogisticRegression()\n",
    "logit.fit(X_train,y_train)"
   ]
  },
  {
   "cell_type": "code",
   "execution_count": 132,
   "metadata": {},
   "outputs": [],
   "source": [
    "y_pred = logit.predict(X_test)"
   ]
  },
  {
   "cell_type": "code",
   "execution_count": 133,
   "metadata": {},
   "outputs": [
    {
     "data": {
      "text/plain": [
       "[('unacc', 'unacc'),\n",
       " ('unacc', 'unacc'),\n",
       " ('unacc', 'unacc'),\n",
       " ('unacc', 'unacc'),\n",
       " ('unacc', 'good'),\n",
       " ('unacc', 'unacc'),\n",
       " ('unacc', 'acc'),\n",
       " ('unacc', 'acc'),\n",
       " ('acc', 'unacc'),\n",
       " ('unacc', 'acc'),\n",
       " ('acc', 'unacc'),\n",
       " ('unacc', 'unacc'),\n",
       " ('unacc', 'unacc'),\n",
       " ('unacc', 'unacc'),\n",
       " ('unacc', 'acc'),\n",
       " ('unacc', 'acc'),\n",
       " ('unacc', 'unacc'),\n",
       " ('unacc', 'unacc'),\n",
       " ('unacc', 'unacc'),\n",
       " ('acc', 'unacc'),\n",
       " ('unacc', 'unacc'),\n",
       " ('unacc', 'unacc'),\n",
       " ('acc', 'unacc'),\n",
       " ('unacc', 'unacc'),\n",
       " ('unacc', 'unacc'),\n",
       " ('unacc', 'unacc'),\n",
       " ('acc', 'unacc'),\n",
       " ('unacc', 'acc'),\n",
       " ('unacc', 'unacc'),\n",
       " ('unacc', 'unacc'),\n",
       " ('unacc', 'unacc'),\n",
       " ('unacc', 'unacc'),\n",
       " ('unacc', 'unacc'),\n",
       " ('unacc', 'acc'),\n",
       " ('unacc', 'unacc'),\n",
       " ('unacc', 'unacc'),\n",
       " ('unacc', 'unacc'),\n",
       " ('unacc', 'unacc'),\n",
       " ('unacc', 'unacc'),\n",
       " ('acc', 'acc'),\n",
       " ('unacc', 'unacc'),\n",
       " ('unacc', 'unacc'),\n",
       " ('unacc', 'unacc'),\n",
       " ('unacc', 'vgood'),\n",
       " ('unacc', 'unacc'),\n",
       " ('unacc', 'acc'),\n",
       " ('unacc', 'unacc'),\n",
       " ('unacc', 'unacc'),\n",
       " ('unacc', 'unacc'),\n",
       " ('unacc', 'unacc'),\n",
       " ('unacc', 'unacc'),\n",
       " ('acc', 'acc'),\n",
       " ('unacc', 'good'),\n",
       " ('unacc', 'vgood'),\n",
       " ('unacc', 'good'),\n",
       " ('unacc', 'unacc'),\n",
       " ('unacc', 'acc'),\n",
       " ('unacc', 'unacc'),\n",
       " ('unacc', 'acc'),\n",
       " ('unacc', 'unacc'),\n",
       " ('unacc', 'unacc'),\n",
       " ('unacc', 'unacc'),\n",
       " ('unacc', 'unacc'),\n",
       " ('acc', 'vgood'),\n",
       " ('unacc', 'unacc'),\n",
       " ('unacc', 'unacc'),\n",
       " ('unacc', 'acc'),\n",
       " ('acc', 'acc'),\n",
       " ('unacc', 'unacc'),\n",
       " ('unacc', 'unacc'),\n",
       " ('acc', 'vgood'),\n",
       " ('unacc', 'unacc'),\n",
       " ('unacc', 'unacc'),\n",
       " ('unacc', 'unacc'),\n",
       " ('unacc', 'good'),\n",
       " ('unacc', 'unacc'),\n",
       " ('unacc', 'acc'),\n",
       " ('unacc', 'vgood'),\n",
       " ('unacc', 'unacc'),\n",
       " ('unacc', 'unacc'),\n",
       " ('acc', 'unacc'),\n",
       " ('acc', 'unacc'),\n",
       " ('unacc', 'unacc'),\n",
       " ('unacc', 'unacc'),\n",
       " ('unacc', 'unacc'),\n",
       " ('unacc', 'unacc'),\n",
       " ('unacc', 'unacc'),\n",
       " ('acc', 'acc'),\n",
       " ('unacc', 'unacc'),\n",
       " ('unacc', 'acc'),\n",
       " ('unacc', 'unacc'),\n",
       " ('unacc', 'unacc'),\n",
       " ('unacc', 'unacc'),\n",
       " ('unacc', 'unacc'),\n",
       " ('unacc', 'unacc'),\n",
       " ('unacc', 'unacc'),\n",
       " ('unacc', 'unacc'),\n",
       " ('unacc', 'unacc'),\n",
       " ('unacc', 'unacc'),\n",
       " ('unacc', 'unacc'),\n",
       " ('unacc', 'unacc'),\n",
       " ('unacc', 'unacc'),\n",
       " ('unacc', 'unacc'),\n",
       " ('unacc', 'unacc'),\n",
       " ('unacc', 'acc'),\n",
       " ('unacc', 'unacc'),\n",
       " ('unacc', 'unacc'),\n",
       " ('unacc', 'unacc'),\n",
       " ('unacc', 'unacc'),\n",
       " ('unacc', 'unacc'),\n",
       " ('unacc', 'unacc'),\n",
       " ('unacc', 'unacc'),\n",
       " ('unacc', 'unacc'),\n",
       " ('unacc', 'unacc'),\n",
       " ('unacc', 'acc'),\n",
       " ('unacc', 'unacc'),\n",
       " ('unacc', 'unacc'),\n",
       " ('unacc', 'good'),\n",
       " ('unacc', 'unacc'),\n",
       " ('acc', 'unacc'),\n",
       " ('unacc', 'unacc'),\n",
       " ('unacc', 'unacc'),\n",
       " ('unacc', 'unacc'),\n",
       " ('unacc', 'unacc'),\n",
       " ('unacc', 'acc'),\n",
       " ('unacc', 'unacc'),\n",
       " ('unacc', 'unacc'),\n",
       " ('unacc', 'unacc'),\n",
       " ('unacc', 'unacc'),\n",
       " ('unacc', 'unacc'),\n",
       " ('acc', 'unacc'),\n",
       " ('acc', 'unacc'),\n",
       " ('unacc', 'unacc'),\n",
       " ('unacc', 'unacc'),\n",
       " ('unacc', 'acc'),\n",
       " ('unacc', 'unacc'),\n",
       " ('acc', 'unacc'),\n",
       " ('unacc', 'vgood'),\n",
       " ('unacc', 'unacc'),\n",
       " ('unacc', 'unacc'),\n",
       " ('unacc', 'acc'),\n",
       " ('unacc', 'unacc'),\n",
       " ('acc', 'acc'),\n",
       " ('acc', 'vgood'),\n",
       " ('unacc', 'unacc'),\n",
       " ('unacc', 'unacc'),\n",
       " ('unacc', 'unacc'),\n",
       " ('unacc', 'unacc'),\n",
       " ('unacc', 'unacc'),\n",
       " ('acc', 'unacc'),\n",
       " ('unacc', 'unacc'),\n",
       " ('unacc', 'unacc'),\n",
       " ('unacc', 'vgood'),\n",
       " ('unacc', 'unacc'),\n",
       " ('unacc', 'unacc'),\n",
       " ('unacc', 'unacc'),\n",
       " ('unacc', 'unacc'),\n",
       " ('unacc', 'unacc'),\n",
       " ('acc', 'good'),\n",
       " ('unacc', 'good'),\n",
       " ('unacc', 'unacc'),\n",
       " ('unacc', 'acc'),\n",
       " ('unacc', 'unacc'),\n",
       " ('unacc', 'unacc'),\n",
       " ('unacc', 'unacc'),\n",
       " ('acc', 'unacc'),\n",
       " ('unacc', 'unacc'),\n",
       " ('unacc', 'unacc'),\n",
       " ('unacc', 'unacc'),\n",
       " ('unacc', 'unacc'),\n",
       " ('unacc', 'unacc'),\n",
       " ('unacc', 'good'),\n",
       " ('unacc', 'unacc'),\n",
       " ('acc', 'vgood'),\n",
       " ('unacc', 'unacc'),\n",
       " ('unacc', 'unacc'),\n",
       " ('unacc', 'unacc'),\n",
       " ('acc', 'unacc'),\n",
       " ('acc', 'acc'),\n",
       " ('unacc', 'acc'),\n",
       " ('unacc', 'unacc'),\n",
       " ('unacc', 'unacc'),\n",
       " ('unacc', 'unacc'),\n",
       " ('unacc', 'unacc'),\n",
       " ('unacc', 'vgood'),\n",
       " ('unacc', 'unacc'),\n",
       " ('unacc', 'acc'),\n",
       " ('acc', 'unacc'),\n",
       " ('unacc', 'good'),\n",
       " ('unacc', 'acc'),\n",
       " ('acc', 'unacc'),\n",
       " ('unacc', 'unacc'),\n",
       " ('unacc', 'unacc'),\n",
       " ('unacc', 'unacc'),\n",
       " ('unacc', 'acc'),\n",
       " ('acc', 'vgood'),\n",
       " ('unacc', 'acc'),\n",
       " ('unacc', 'acc'),\n",
       " ('unacc', 'unacc'),\n",
       " ('unacc', 'unacc'),\n",
       " ('unacc', 'unacc'),\n",
       " ('unacc', 'unacc'),\n",
       " ('unacc', 'acc'),\n",
       " ('unacc', 'unacc'),\n",
       " ('unacc', 'unacc'),\n",
       " ('unacc', 'unacc'),\n",
       " ('unacc', 'unacc'),\n",
       " ('unacc', 'unacc'),\n",
       " ('unacc', 'unacc'),\n",
       " ('unacc', 'unacc'),\n",
       " ('acc', 'vgood'),\n",
       " ('unacc', 'acc'),\n",
       " ('unacc', 'unacc'),\n",
       " ('acc', 'unacc'),\n",
       " ('unacc', 'unacc'),\n",
       " ('acc', 'vgood'),\n",
       " ('unacc', 'unacc'),\n",
       " ('unacc', 'unacc'),\n",
       " ('unacc', 'good'),\n",
       " ('unacc', 'unacc'),\n",
       " ('acc', 'unacc'),\n",
       " ('unacc', 'unacc'),\n",
       " ('unacc', 'unacc'),\n",
       " ('unacc', 'unacc'),\n",
       " ('unacc', 'unacc'),\n",
       " ('unacc', 'unacc'),\n",
       " ('acc', 'acc'),\n",
       " ('unacc', 'unacc'),\n",
       " ('unacc', 'unacc'),\n",
       " ('unacc', 'unacc'),\n",
       " ('unacc', 'unacc'),\n",
       " ('unacc', 'unacc'),\n",
       " ('unacc', 'acc'),\n",
       " ('unacc', 'acc'),\n",
       " ('unacc', 'unacc'),\n",
       " ('unacc', 'unacc'),\n",
       " ('unacc', 'unacc'),\n",
       " ('unacc', 'unacc'),\n",
       " ('unacc', 'vgood'),\n",
       " ('unacc', 'unacc'),\n",
       " ('unacc', 'unacc'),\n",
       " ('unacc', 'acc'),\n",
       " ('unacc', 'unacc'),\n",
       " ('unacc', 'acc'),\n",
       " ('unacc', 'unacc'),\n",
       " ('unacc', 'acc'),\n",
       " ('unacc', 'unacc'),\n",
       " ('unacc', 'unacc'),\n",
       " ('unacc', 'unacc'),\n",
       " ('unacc', 'unacc'),\n",
       " ('unacc', 'unacc'),\n",
       " ('unacc', 'acc'),\n",
       " ('unacc', 'unacc'),\n",
       " ('unacc', 'unacc'),\n",
       " ('unacc', 'unacc'),\n",
       " ('unacc', 'acc'),\n",
       " ('unacc', 'unacc'),\n",
       " ('unacc', 'unacc'),\n",
       " ('acc', 'acc'),\n",
       " ('unacc', 'unacc'),\n",
       " ('unacc', 'unacc'),\n",
       " ('unacc', 'unacc'),\n",
       " ('unacc', 'acc'),\n",
       " ('unacc', 'unacc'),\n",
       " ('unacc', 'unacc'),\n",
       " ('unacc', 'unacc'),\n",
       " ('unacc', 'acc'),\n",
       " ('unacc', 'unacc'),\n",
       " ('unacc', 'unacc'),\n",
       " ('unacc', 'acc'),\n",
       " ('unacc', 'unacc'),\n",
       " ('acc', 'unacc'),\n",
       " ('unacc', 'unacc'),\n",
       " ('acc', 'good'),\n",
       " ('unacc', 'good'),\n",
       " ('unacc', 'unacc'),\n",
       " ('unacc', 'unacc'),\n",
       " ('unacc', 'unacc'),\n",
       " ('acc', 'acc'),\n",
       " ('unacc', 'acc'),\n",
       " ('unacc', 'unacc'),\n",
       " ('acc', 'acc'),\n",
       " ('unacc', 'vgood'),\n",
       " ('acc', 'vgood'),\n",
       " ('unacc', 'acc'),\n",
       " ('unacc', 'unacc'),\n",
       " ('unacc', 'acc'),\n",
       " ('unacc', 'unacc'),\n",
       " ('unacc', 'unacc'),\n",
       " ('unacc', 'unacc'),\n",
       " ('unacc', 'vgood'),\n",
       " ('unacc', 'unacc'),\n",
       " ('unacc', 'unacc'),\n",
       " ('unacc', 'acc'),\n",
       " ('unacc', 'unacc'),\n",
       " ('unacc', 'unacc'),\n",
       " ('unacc', 'unacc'),\n",
       " ('unacc', 'unacc'),\n",
       " ('unacc', 'unacc'),\n",
       " ('acc', 'acc'),\n",
       " ('unacc', 'unacc'),\n",
       " ('unacc', 'unacc'),\n",
       " ('unacc', 'unacc'),\n",
       " ('unacc', 'vgood'),\n",
       " ('unacc', 'unacc'),\n",
       " ('unacc', 'unacc'),\n",
       " ('unacc', 'unacc'),\n",
       " ('unacc', 'acc'),\n",
       " ('unacc', 'unacc'),\n",
       " ('unacc', 'unacc'),\n",
       " ('unacc', 'unacc'),\n",
       " ('unacc', 'unacc'),\n",
       " ('unacc', 'acc'),\n",
       " ('acc', 'acc'),\n",
       " ('unacc', 'unacc'),\n",
       " ('unacc', 'unacc'),\n",
       " ('unacc', 'good'),\n",
       " ('unacc', 'unacc'),\n",
       " ('unacc', 'unacc'),\n",
       " ('unacc', 'unacc'),\n",
       " ('unacc', 'acc'),\n",
       " ('unacc', 'unacc'),\n",
       " ('unacc', 'unacc'),\n",
       " ('unacc', 'acc'),\n",
       " ('unacc', 'acc'),\n",
       " ('unacc', 'unacc'),\n",
       " ('unacc', 'acc'),\n",
       " ('unacc', 'acc'),\n",
       " ('unacc', 'unacc'),\n",
       " ('unacc', 'unacc'),\n",
       " ('unacc', 'acc'),\n",
       " ('unacc', 'acc'),\n",
       " ('unacc', 'unacc'),\n",
       " ('unacc', 'unacc'),\n",
       " ('unacc', 'unacc'),\n",
       " ('unacc', 'unacc'),\n",
       " ('unacc', 'unacc'),\n",
       " ('unacc', 'acc'),\n",
       " ('unacc', 'unacc'),\n",
       " ('unacc', 'unacc'),\n",
       " ('unacc', 'unacc'),\n",
       " ('unacc', 'acc'),\n",
       " ('unacc', 'unacc'),\n",
       " ('unacc', 'unacc'),\n",
       " ('unacc', 'unacc'),\n",
       " ('unacc', 'unacc'),\n",
       " ('unacc', 'unacc'),\n",
       " ('unacc', 'unacc'),\n",
       " ('acc', 'unacc'),\n",
       " ('unacc', 'unacc'),\n",
       " ('unacc', 'good'),\n",
       " ('unacc', 'vgood'),\n",
       " ('acc', 'vgood'),\n",
       " ('unacc', 'unacc'),\n",
       " ('unacc', 'unacc'),\n",
       " ('unacc', 'unacc'),\n",
       " ('unacc', 'unacc'),\n",
       " ('unacc', 'acc'),\n",
       " ('unacc', 'unacc'),\n",
       " ('unacc', 'unacc'),\n",
       " ('unacc', 'unacc'),\n",
       " ('acc', 'vgood'),\n",
       " ('unacc', 'unacc'),\n",
       " ('unacc', 'unacc'),\n",
       " ('unacc', 'good'),\n",
       " ('unacc', 'unacc'),\n",
       " ('unacc', 'good'),\n",
       " ('unacc', 'unacc'),\n",
       " ('unacc', 'unacc'),\n",
       " ('unacc', 'unacc'),\n",
       " ('acc', 'acc'),\n",
       " ('unacc', 'acc'),\n",
       " ('unacc', 'unacc'),\n",
       " ('acc', 'unacc'),\n",
       " ('unacc', 'unacc'),\n",
       " ('unacc', 'unacc'),\n",
       " ('unacc', 'unacc'),\n",
       " ('unacc', 'unacc'),\n",
       " ('unacc', 'unacc'),\n",
       " ('unacc', 'acc'),\n",
       " ('unacc', 'unacc'),\n",
       " ('unacc', 'acc'),\n",
       " ('unacc', 'good'),\n",
       " ('unacc', 'unacc'),\n",
       " ('unacc', 'unacc'),\n",
       " ('unacc', 'unacc'),\n",
       " ('unacc', 'unacc'),\n",
       " ('unacc', 'unacc'),\n",
       " ('unacc', 'acc'),\n",
       " ('acc', 'unacc'),\n",
       " ('acc', 'unacc'),\n",
       " ('unacc', 'vgood'),\n",
       " ('unacc', 'acc'),\n",
       " ('acc', 'acc'),\n",
       " ('acc', 'acc'),\n",
       " ('unacc', 'acc'),\n",
       " ('unacc', 'unacc'),\n",
       " ('unacc', 'acc'),\n",
       " ('unacc', 'unacc'),\n",
       " ('unacc', 'unacc'),\n",
       " ('unacc', 'unacc'),\n",
       " ('unacc', 'acc'),\n",
       " ('unacc', 'acc'),\n",
       " ('unacc', 'unacc'),\n",
       " ('unacc', 'acc'),\n",
       " ('unacc', 'unacc'),\n",
       " ('unacc', 'good'),\n",
       " ('unacc', 'acc'),\n",
       " ('unacc', 'unacc'),\n",
       " ('unacc', 'unacc'),\n",
       " ('unacc', 'acc'),\n",
       " ('unacc', 'unacc'),\n",
       " ('unacc', 'unacc'),\n",
       " ('unacc', 'unacc'),\n",
       " ('unacc', 'acc'),\n",
       " ('acc', 'good'),\n",
       " ('unacc', 'unacc'),\n",
       " ('unacc', 'acc'),\n",
       " ('acc', 'acc'),\n",
       " ('unacc', 'unacc'),\n",
       " ('unacc', 'acc'),\n",
       " ('unacc', 'unacc'),\n",
       " ('unacc', 'unacc'),\n",
       " ('unacc', 'unacc'),\n",
       " ('unacc', 'unacc'),\n",
       " ('unacc', 'unacc'),\n",
       " ('unacc', 'unacc'),\n",
       " ('unacc', 'unacc'),\n",
       " ('unacc', 'unacc'),\n",
       " ('unacc', 'unacc'),\n",
       " ('unacc', 'unacc'),\n",
       " ('unacc', 'unacc'),\n",
       " ('unacc', 'unacc'),\n",
       " ('unacc', 'acc'),\n",
       " ('unacc', 'unacc'),\n",
       " ('unacc', 'unacc'),\n",
       " ('unacc', 'vgood'),\n",
       " ('unacc', 'unacc'),\n",
       " ('unacc', 'unacc'),\n",
       " ('unacc', 'unacc'),\n",
       " ('acc', 'unacc'),\n",
       " ('unacc', 'acc'),\n",
       " ('acc', 'unacc'),\n",
       " ('unacc', 'unacc'),\n",
       " ('unacc', 'unacc'),\n",
       " ('unacc', 'acc'),\n",
       " ('acc', 'unacc'),\n",
       " ('unacc', 'unacc'),\n",
       " ('unacc', 'unacc'),\n",
       " ('unacc', 'acc'),\n",
       " ('unacc', 'unacc'),\n",
       " ('unacc', 'unacc'),\n",
       " ('acc', 'unacc'),\n",
       " ('acc', 'acc'),\n",
       " ('unacc', 'unacc'),\n",
       " ('unacc', 'unacc'),\n",
       " ('unacc', 'acc'),\n",
       " ('acc', 'vgood'),\n",
       " ('unacc', 'unacc'),\n",
       " ('unacc', 'unacc'),\n",
       " ('unacc', 'unacc'),\n",
       " ('unacc', 'unacc'),\n",
       " ('unacc', 'good'),\n",
       " ('unacc', 'unacc'),\n",
       " ('unacc', 'unacc'),\n",
       " ('unacc', 'unacc'),\n",
       " ('unacc', 'unacc'),\n",
       " ('unacc', 'unacc'),\n",
       " ('unacc', 'unacc'),\n",
       " ('unacc', 'acc'),\n",
       " ('acc', 'unacc'),\n",
       " ('unacc', 'acc'),\n",
       " ('unacc', 'unacc'),\n",
       " ('acc', 'acc'),\n",
       " ('unacc', 'unacc'),\n",
       " ('unacc', 'unacc'),\n",
       " ('unacc', 'unacc'),\n",
       " ('unacc', 'unacc'),\n",
       " ('acc', 'acc'),\n",
       " ('unacc', 'unacc'),\n",
       " ('unacc', 'unacc'),\n",
       " ('unacc', 'unacc'),\n",
       " ('unacc', 'unacc'),\n",
       " ('unacc', 'unacc'),\n",
       " ('unacc', 'unacc'),\n",
       " ('unacc', 'unacc'),\n",
       " ('unacc', 'unacc'),\n",
       " ('unacc', 'unacc'),\n",
       " ('unacc', 'good'),\n",
       " ('unacc', 'unacc'),\n",
       " ('unacc', 'unacc'),\n",
       " ('unacc', 'unacc'),\n",
       " ('unacc', 'unacc'),\n",
       " ('unacc', 'unacc'),\n",
       " ('unacc', 'acc'),\n",
       " ('acc', 'acc'),\n",
       " ('unacc', 'unacc'),\n",
       " ('unacc', 'unacc'),\n",
       " ('unacc', 'unacc'),\n",
       " ('unacc', 'acc'),\n",
       " ('unacc', 'unacc'),\n",
       " ('unacc', 'unacc'),\n",
       " ('unacc', 'unacc'),\n",
       " ('unacc', 'unacc'),\n",
       " ('unacc', 'unacc'),\n",
       " ('acc', 'acc'),\n",
       " ('unacc', 'unacc'),\n",
       " ('unacc', 'acc'),\n",
       " ('unacc', 'unacc'),\n",
       " ('unacc', 'unacc'),\n",
       " ('acc', 'acc'),\n",
       " ('unacc', 'unacc'),\n",
       " ('unacc', 'acc'),\n",
       " ('unacc', 'unacc'),\n",
       " ('acc', 'unacc'),\n",
       " ('unacc', 'unacc'),\n",
       " ('unacc', 'vgood'),\n",
       " ('unacc', 'unacc'),\n",
       " ('acc', 'acc')]"
      ]
     },
     "execution_count": 133,
     "metadata": {},
     "output_type": "execute_result"
    }
   ],
   "source": [
    "list(zip(y_pred, y_test))"
   ]
  },
  {
   "cell_type": "code",
   "execution_count": 134,
   "metadata": {},
   "outputs": [
    {
     "name": "stdout",
     "output_type": "stream",
     "text": [
      "[[-0.09240378 -0.11335641  0.0397914   1.01729615 -0.23701168 -0.26604948]\n",
      " [-0.18401379 -0.24291412  0.05319108  0.68095076 -0.21948242  0.27338938]\n",
      " [ 0.12078664  0.17897248 -0.11659616 -1.25529592  0.42696084  0.44017224]\n",
      " [-0.16433221 -0.29697611  0.22605217  0.96787135 -1.26703668 -2.91430904]]\n",
      "[-1.65897035 -3.50596318  1.17795089 -2.27620813]\n"
     ]
    }
   ],
   "source": [
    "print(logit.coef_)\n",
    "print(logit.intercept_)"
   ]
  },
  {
   "cell_type": "markdown",
   "metadata": {},
   "source": [
    "### Evaluating results"
   ]
  },
  {
   "cell_type": "code",
   "execution_count": 135,
   "metadata": {},
   "outputs": [
    {
     "data": {
      "text/plain": [
       "0.7032755298651252"
      ]
     },
     "execution_count": 135,
     "metadata": {},
     "output_type": "execute_result"
    }
   ],
   "source": [
    "from sklearn.metrics import accuracy_score, precision_score, recall_score, f1_score,confusion_matrix,classification_report\n",
    "\n",
    "metrics.accuracy_score(y_test, y_pred)"
   ]
  },
  {
   "cell_type": "code",
   "execution_count": 136,
   "metadata": {},
   "outputs": [
    {
     "name": "stdout",
     "output_type": "stream",
     "text": [
      "0.6081660303993114\n",
      "0.7032755298651252\n",
      "0.647195743441324\n"
     ]
    },
    {
     "name": "stderr",
     "output_type": "stream",
     "text": [
      "/anaconda3/lib/python3.6/site-packages/sklearn/metrics/classification.py:1135: UndefinedMetricWarning: Precision is ill-defined and being set to 0.0 in labels with no predicted samples.\n",
      "  'precision', 'predicted', average, warn_for)\n",
      "/anaconda3/lib/python3.6/site-packages/sklearn/metrics/classification.py:1135: UndefinedMetricWarning: F-score is ill-defined and being set to 0.0 in labels with no predicted samples.\n",
      "  'precision', 'predicted', average, warn_for)\n"
     ]
    }
   ],
   "source": [
    "print(metrics.precision_score(y_test, y_pred, average='weighted'))\n",
    "print(metrics.recall_score(y_test, y_pred, average='weighted'))\n",
    "print(metrics.f1_score(y_test, y_pred, average='weighted'))"
   ]
  },
  {
   "cell_type": "code",
   "execution_count": 137,
   "metadata": {},
   "outputs": [
    {
     "name": "stdout",
     "output_type": "stream",
     "text": [
      "             precision    recall  f1-score   support\n",
      "\n",
      "        acc       0.35      0.23      0.27       102\n",
      "       good       0.00      0.00      0.00        21\n",
      "      unacc       0.75      0.92      0.83       371\n",
      "      vgood       0.00      0.00      0.00        25\n",
      "\n",
      "avg / total       0.61      0.70      0.65       519\n",
      "\n"
     ]
    },
    {
     "name": "stderr",
     "output_type": "stream",
     "text": [
      "/anaconda3/lib/python3.6/site-packages/sklearn/metrics/classification.py:1135: UndefinedMetricWarning: Precision and F-score are ill-defined and being set to 0.0 in labels with no predicted samples.\n",
      "  'precision', 'predicted', average, warn_for)\n"
     ]
    }
   ],
   "source": [
    "print(classification_report(y_test, y_pred))"
   ]
  },
  {
   "cell_type": "code",
   "execution_count": 148,
   "metadata": {},
   "outputs": [],
   "source": [
    "cmatrix = confusion_matrix(y_test, y_pred)"
   ]
  },
  {
   "cell_type": "code",
   "execution_count": 149,
   "metadata": {},
   "outputs": [
    {
     "data": {
      "text/html": [
       "<div>\n",
       "<style scoped>\n",
       "    .dataframe tbody tr th:only-of-type {\n",
       "        vertical-align: middle;\n",
       "    }\n",
       "\n",
       "    .dataframe tbody tr th {\n",
       "        vertical-align: top;\n",
       "    }\n",
       "\n",
       "    .dataframe thead th {\n",
       "        text-align: right;\n",
       "    }\n",
       "</style>\n",
       "<table border=\"1\" class=\"dataframe\">\n",
       "  <thead>\n",
       "    <tr style=\"text-align: right;\">\n",
       "      <th></th>\n",
       "      <th>0</th>\n",
       "      <th>1</th>\n",
       "      <th>2</th>\n",
       "      <th>3</th>\n",
       "    </tr>\n",
       "  </thead>\n",
       "  <tbody>\n",
       "    <tr>\n",
       "      <th>0</th>\n",
       "      <td>0</td>\n",
       "      <td>0</td>\n",
       "      <td>102</td>\n",
       "      <td>0</td>\n",
       "    </tr>\n",
       "    <tr>\n",
       "      <th>1</th>\n",
       "      <td>0</td>\n",
       "      <td>0</td>\n",
       "      <td>21</td>\n",
       "      <td>0</td>\n",
       "    </tr>\n",
       "    <tr>\n",
       "      <th>2</th>\n",
       "      <td>0</td>\n",
       "      <td>0</td>\n",
       "      <td>371</td>\n",
       "      <td>0</td>\n",
       "    </tr>\n",
       "    <tr>\n",
       "      <th>3</th>\n",
       "      <td>0</td>\n",
       "      <td>0</td>\n",
       "      <td>25</td>\n",
       "      <td>0</td>\n",
       "    </tr>\n",
       "  </tbody>\n",
       "</table>\n",
       "</div>"
      ],
      "text/plain": [
       "   0  1    2  3\n",
       "0  0  0  102  0\n",
       "1  0  0   21  0\n",
       "2  0  0  371  0\n",
       "3  0  0   25  0"
      ]
     },
     "execution_count": 149,
     "metadata": {},
     "output_type": "execute_result"
    }
   ],
   "source": [
    "pd.DataFrame(metrics.confusion_matrix(y_test, y_pred))"
   ]
  },
  {
   "cell_type": "markdown",
   "metadata": {},
   "source": [
    "## Decision Tree Classifier"
   ]
  },
  {
   "cell_type": "code",
   "execution_count": 140,
   "metadata": {},
   "outputs": [
    {
     "data": {
      "text/plain": [
       "DecisionTreeClassifier(class_weight=None, criterion='gini', max_depth=None,\n",
       "            max_features=None, max_leaf_nodes=None,\n",
       "            min_impurity_decrease=0.0, min_impurity_split=None,\n",
       "            min_samples_leaf=1, min_samples_split=2,\n",
       "            min_weight_fraction_leaf=0.0, presort=False, random_state=None,\n",
       "            splitter='best')"
      ]
     },
     "execution_count": 140,
     "metadata": {},
     "output_type": "execute_result"
    }
   ],
   "source": [
    "from sklearn.tree import DecisionTreeClassifier\n",
    "tree = DecisionTreeClassifier()\n",
    "tree.fit(X_train,y_train)"
   ]
  },
  {
   "cell_type": "code",
   "execution_count": 141,
   "metadata": {},
   "outputs": [
    {
     "data": {
      "text/plain": [
       "0.9884393063583815"
      ]
     },
     "execution_count": 141,
     "metadata": {},
     "output_type": "execute_result"
    }
   ],
   "source": [
    "y_pred = tree.predict(X_test)\n",
    "metrics.accuracy_score(y_pred,y_test)"
   ]
  },
  {
   "cell_type": "code",
   "execution_count": 142,
   "metadata": {},
   "outputs": [
    {
     "name": "stdout",
     "output_type": "stream",
     "text": [
      "0.9883898807149736\n",
      "0.9884393063583815\n",
      "0.9882843835827932\n"
     ]
    }
   ],
   "source": [
    "print(metrics.precision_score(y_test, y_pred, average='weighted'))\n",
    "print(metrics.recall_score(y_test, y_pred, average='weighted'))\n",
    "print(metrics.f1_score(y_test, y_pred, average='weighted'))"
   ]
  },
  {
   "cell_type": "code",
   "execution_count": 127,
   "metadata": {},
   "outputs": [
    {
     "name": "stdout",
     "output_type": "stream",
     "text": [
      "             precision    recall  f1-score   support\n",
      "\n",
      "        acc       0.97      0.99      0.98       102\n",
      "       good       1.00      0.90      0.95        21\n",
      "      unacc       1.00      1.00      1.00       371\n",
      "      vgood       1.00      0.96      0.98        25\n",
      "\n",
      "avg / total       0.99      0.99      0.99       519\n",
      "\n"
     ]
    }
   ],
   "source": [
    "print(metrics.classification_report(y_test, y_pred))"
   ]
  },
  {
   "cell_type": "markdown",
   "metadata": {},
   "source": [
    "## SVM"
   ]
  },
  {
   "cell_type": "code",
   "execution_count": 143,
   "metadata": {},
   "outputs": [],
   "source": [
    "from sklearn import svm\n",
    "model = svm.SVC(kernel=\"linear\", C=0.01)\n",
    "model = model.fit(X_train, y_train)"
   ]
  },
  {
   "cell_type": "code",
   "execution_count": 145,
   "metadata": {},
   "outputs": [
    {
     "data": {
      "text/plain": [
       "0.7148362235067437"
      ]
     },
     "execution_count": 145,
     "metadata": {},
     "output_type": "execute_result"
    }
   ],
   "source": [
    "y_pred = model.predict(X_test)\n",
    "model.score(X_test,y_test)"
   ]
  },
  {
   "cell_type": "code",
   "execution_count": 152,
   "metadata": {},
   "outputs": [
    {
     "name": "stdout",
     "output_type": "stream",
     "text": [
      "0.5109908264373832\n",
      "0.7148362235067437\n",
      "0.5959645818449482\n"
     ]
    },
    {
     "name": "stderr",
     "output_type": "stream",
     "text": [
      "/anaconda3/lib/python3.6/site-packages/sklearn/metrics/classification.py:1135: UndefinedMetricWarning: Precision is ill-defined and being set to 0.0 in labels with no predicted samples.\n",
      "  'precision', 'predicted', average, warn_for)\n",
      "/anaconda3/lib/python3.6/site-packages/sklearn/metrics/classification.py:1135: UndefinedMetricWarning: F-score is ill-defined and being set to 0.0 in labels with no predicted samples.\n",
      "  'precision', 'predicted', average, warn_for)\n"
     ]
    }
   ],
   "source": [
    "print(metrics.precision_score(y_test, y_pred, average='weighted'))\n",
    "print(metrics.recall_score(y_test, y_pred, average='weighted'))\n",
    "print(metrics.f1_score(y_test, y_pred, average='weighted'))"
   ]
  },
  {
   "cell_type": "code",
   "execution_count": 153,
   "metadata": {},
   "outputs": [
    {
     "name": "stdout",
     "output_type": "stream",
     "text": [
      "             precision    recall  f1-score   support\n",
      "\n",
      "        acc       0.00      0.00      0.00       102\n",
      "       good       0.00      0.00      0.00        21\n",
      "      unacc       0.71      1.00      0.83       371\n",
      "      vgood       0.00      0.00      0.00        25\n",
      "\n",
      "avg / total       0.51      0.71      0.60       519\n",
      "\n"
     ]
    },
    {
     "name": "stderr",
     "output_type": "stream",
     "text": [
      "/anaconda3/lib/python3.6/site-packages/sklearn/metrics/classification.py:1135: UndefinedMetricWarning: Precision and F-score are ill-defined and being set to 0.0 in labels with no predicted samples.\n",
      "  'precision', 'predicted', average, warn_for)\n"
     ]
    }
   ],
   "source": [
    "print(metrics.classification_report(y_test, y_pred))"
   ]
  },
  {
   "cell_type": "code",
   "execution_count": null,
   "metadata": {},
   "outputs": [],
   "source": []
  }
 ],
 "metadata": {
  "kernelspec": {
   "display_name": "Python 3",
   "language": "python",
   "name": "python3"
  },
  "language_info": {
   "codemirror_mode": {
    "name": "ipython",
    "version": 3
   },
   "file_extension": ".py",
   "mimetype": "text/x-python",
   "name": "python",
   "nbconvert_exporter": "python",
   "pygments_lexer": "ipython3",
   "version": "3.6.5"
  }
 },
 "nbformat": 4,
 "nbformat_minor": 2
}
