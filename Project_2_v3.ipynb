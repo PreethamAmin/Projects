{
 "cells": [
  {
   "cell_type": "markdown",
   "metadata": {},
   "source": [
    "# Data Pipeline \n",
    "\n",
    "http://archive.ics.uci.edu/ml/datasets/Car+Evaluation"
   ]
  },
  {
   "cell_type": "code",
   "execution_count": 81,
   "metadata": {},
   "outputs": [],
   "source": [
    "#Attribute Information:\n",
    "\n",
    "#Class Values:\n",
    "\n",
    "#unacc, acc, good, vgood\n",
    "\n",
    "#Attributes:\n",
    "\n",
    "#buying: vhigh, high, med, low.\n",
    "#maint: vhigh, high, med, low.\n",
    "#doors: 2, 3, 4, 5more.\n",
    "#persons: 2, 4, more.\n",
    "#lug_boot: small, med, big.\n",
    "#safety: low, med, high."
   ]
  },
  {
   "cell_type": "markdown",
   "metadata": {},
   "source": [
    "# Goal\n",
    "Build an end-to-end machine learning \"pipeline\", that performs everything you need to achieve the prediction goal, from the raw data, to predicted results\n",
    "\n",
    "### OPTIONAL \n",
    "Pipline: Luigi, Airflow\n",
    "\n",
    "Take raw data to forcasted numbers"
   ]
  },
  {
   "cell_type": "code",
   "execution_count": 246,
   "metadata": {},
   "outputs": [
    {
     "name": "stdout",
     "output_type": "stream",
     "text": [
      "Populating the interactive namespace from numpy and matplotlib\n"
     ]
    },
    {
     "name": "stderr",
     "output_type": "stream",
     "text": [
      "C:\\Users\\Preetham\\Anaconda3\\lib\\site-packages\\IPython\\core\\magics\\pylab.py:160: UserWarning:\n",
      "\n",
      "pylab import has clobbered these variables: ['cm', 'clf']\n",
      "`%matplotlib` prevents importing * from pylab and numpy\n",
      "\n"
     ]
    }
   ],
   "source": [
    "import numpy as np\n",
    "import pandas as pd\n",
    "from sklearn import datasets\n",
    "from sklearn import metrics\n",
    "%pylab inline"
   ]
  },
  {
   "cell_type": "code",
   "execution_count": 252,
   "metadata": {},
   "outputs": [],
   "source": [
    "df = pd.read_csv('car_data.csv',sep='\\t', header = None)"
   ]
  },
  {
   "cell_type": "code",
   "execution_count": 253,
   "metadata": {},
   "outputs": [
    {
     "data": {
      "text/html": [
       "<div>\n",
       "<style scoped>\n",
       "    .dataframe tbody tr th:only-of-type {\n",
       "        vertical-align: middle;\n",
       "    }\n",
       "\n",
       "    .dataframe tbody tr th {\n",
       "        vertical-align: top;\n",
       "    }\n",
       "\n",
       "    .dataframe thead th {\n",
       "        text-align: right;\n",
       "    }\n",
       "</style>\n",
       "<table border=\"1\" class=\"dataframe\">\n",
       "  <thead>\n",
       "    <tr style=\"text-align: right;\">\n",
       "      <th></th>\n",
       "      <th>Buying</th>\n",
       "      <th>Maintainence</th>\n",
       "      <th>Doors</th>\n",
       "      <th>Persons</th>\n",
       "      <th>Lug Boot</th>\n",
       "      <th>Safety</th>\n",
       "      <th>Class</th>\n",
       "    </tr>\n",
       "  </thead>\n",
       "  <tbody>\n",
       "    <tr>\n",
       "      <th>0</th>\n",
       "      <td>vhigh</td>\n",
       "      <td>vhigh</td>\n",
       "      <td>2</td>\n",
       "      <td>2</td>\n",
       "      <td>small</td>\n",
       "      <td>low</td>\n",
       "      <td>unacc</td>\n",
       "    </tr>\n",
       "    <tr>\n",
       "      <th>1</th>\n",
       "      <td>vhigh</td>\n",
       "      <td>vhigh</td>\n",
       "      <td>2</td>\n",
       "      <td>2</td>\n",
       "      <td>small</td>\n",
       "      <td>med</td>\n",
       "      <td>unacc</td>\n",
       "    </tr>\n",
       "    <tr>\n",
       "      <th>2</th>\n",
       "      <td>vhigh</td>\n",
       "      <td>vhigh</td>\n",
       "      <td>2</td>\n",
       "      <td>2</td>\n",
       "      <td>small</td>\n",
       "      <td>high</td>\n",
       "      <td>unacc</td>\n",
       "    </tr>\n",
       "    <tr>\n",
       "      <th>3</th>\n",
       "      <td>vhigh</td>\n",
       "      <td>vhigh</td>\n",
       "      <td>2</td>\n",
       "      <td>2</td>\n",
       "      <td>med</td>\n",
       "      <td>low</td>\n",
       "      <td>unacc</td>\n",
       "    </tr>\n",
       "    <tr>\n",
       "      <th>4</th>\n",
       "      <td>vhigh</td>\n",
       "      <td>vhigh</td>\n",
       "      <td>2</td>\n",
       "      <td>2</td>\n",
       "      <td>med</td>\n",
       "      <td>med</td>\n",
       "      <td>unacc</td>\n",
       "    </tr>\n",
       "  </tbody>\n",
       "</table>\n",
       "</div>"
      ],
      "text/plain": [
       "  Buying Maintainence Doors Persons Lug Boot Safety  Class\n",
       "0  vhigh        vhigh     2       2    small    low  unacc\n",
       "1  vhigh        vhigh     2       2    small    med  unacc\n",
       "2  vhigh        vhigh     2       2    small   high  unacc\n",
       "3  vhigh        vhigh     2       2      med    low  unacc\n",
       "4  vhigh        vhigh     2       2      med    med  unacc"
      ]
     },
     "execution_count": 253,
     "metadata": {},
     "output_type": "execute_result"
    }
   ],
   "source": [
    "# Rename Columns\n",
    "\n",
    "columns1 = ['Buying','Maintainence','Doors','Persons','Lug Boot','Safety','Class']\n",
    "df.columns = columns1\n",
    "df.head(5)"
   ]
  },
  {
   "cell_type": "code",
   "execution_count": 254,
   "metadata": {},
   "outputs": [
    {
     "data": {
      "text/plain": [
       "Buying          object\n",
       "Maintainence    object\n",
       "Doors           object\n",
       "Persons         object\n",
       "Lug Boot        object\n",
       "Safety          object\n",
       "Class           object\n",
       "dtype: object"
      ]
     },
     "execution_count": 254,
     "metadata": {},
     "output_type": "execute_result"
    }
   ],
   "source": [
    "df.dtypes"
   ]
  },
  {
   "cell_type": "code",
   "execution_count": 255,
   "metadata": {},
   "outputs": [
    {
     "data": {
      "text/plain": [
       "Buying          0\n",
       "Maintainence    0\n",
       "Doors           0\n",
       "Persons         0\n",
       "Lug Boot        0\n",
       "Safety          0\n",
       "Class           0\n",
       "dtype: int64"
      ]
     },
     "execution_count": 255,
     "metadata": {},
     "output_type": "execute_result"
    }
   ],
   "source": [
    "# check for null\n",
    "df.isnull().sum()"
   ]
  },
  {
   "cell_type": "code",
   "execution_count": 256,
   "metadata": {},
   "outputs": [],
   "source": [
    "y = df['Class']"
   ]
  },
  {
   "cell_type": "code",
   "execution_count": 257,
   "metadata": {},
   "outputs": [
    {
     "data": {
      "text/plain": [
       "<matplotlib.axes._subplots.AxesSubplot at 0x18943f38ac8>"
      ]
     },
     "execution_count": 257,
     "metadata": {},
     "output_type": "execute_result"
    },
    {
     "data": {
      "image/png": "[encoded data removed]",
      "text/plain": [
       "<Figure size 432x288 with 1 Axes>"
      ]
     },
     "metadata": {},
     "output_type": "display_data"
    }
   ],
   "source": [
    "import seaborn as sns\n",
    "sns.set(style=\"whitegrid\")\n",
    "sns.countplot(x=\"Class\", hue=\"Safety\",data=df)"
   ]
  },
  {
   "cell_type": "code",
   "execution_count": 258,
   "metadata": {},
   "outputs": [
    {
     "data": {
      "text/plain": [
       "<matplotlib.axes._subplots.AxesSubplot at 0x18943fc2ac8>"
      ]
     },
     "execution_count": 258,
     "metadata": {},
     "output_type": "execute_result"
    },
    {
     "data": {
      "image/png": "[encoded data removed]",
      "text/plain": [
       "<Figure size 432x288 with 1 Axes>"
      ]
     },
     "metadata": {},
     "output_type": "display_data"
    }
   ],
   "source": [
    "sns.set(style=\"whitegrid\")\n",
    "sns.countplot(x=\"Class\", hue=\"Buying\", data=df)"
   ]
  },
  {
   "cell_type": "markdown",
   "metadata": {},
   "source": [
    "## Preprocessing Data"
   ]
  },
  {
   "cell_type": "code",
   "execution_count": 259,
   "metadata": {},
   "outputs": [
    {
     "data": {
      "text/html": [
       "<div>\n",
       "<style scoped>\n",
       "    .dataframe tbody tr th:only-of-type {\n",
       "        vertical-align: middle;\n",
       "    }\n",
       "\n",
       "    .dataframe tbody tr th {\n",
       "        vertical-align: top;\n",
       "    }\n",
       "\n",
       "    .dataframe thead th {\n",
       "        text-align: right;\n",
       "    }\n",
       "</style>\n",
       "<table border=\"1\" class=\"dataframe\">\n",
       "  <thead>\n",
       "    <tr style=\"text-align: right;\">\n",
       "      <th></th>\n",
       "      <th>Buying</th>\n",
       "      <th>Maintainence</th>\n",
       "      <th>Doors</th>\n",
       "      <th>Persons</th>\n",
       "      <th>Lug Boot</th>\n",
       "      <th>Safety</th>\n",
       "      <th>Class</th>\n",
       "    </tr>\n",
       "  </thead>\n",
       "  <tbody>\n",
       "    <tr>\n",
       "      <th>0</th>\n",
       "      <td>vhigh</td>\n",
       "      <td>vhigh</td>\n",
       "      <td>2</td>\n",
       "      <td>2</td>\n",
       "      <td>small</td>\n",
       "      <td>low</td>\n",
       "      <td>unacc</td>\n",
       "    </tr>\n",
       "    <tr>\n",
       "      <th>1</th>\n",
       "      <td>vhigh</td>\n",
       "      <td>vhigh</td>\n",
       "      <td>2</td>\n",
       "      <td>2</td>\n",
       "      <td>small</td>\n",
       "      <td>med</td>\n",
       "      <td>unacc</td>\n",
       "    </tr>\n",
       "    <tr>\n",
       "      <th>2</th>\n",
       "      <td>vhigh</td>\n",
       "      <td>vhigh</td>\n",
       "      <td>2</td>\n",
       "      <td>2</td>\n",
       "      <td>small</td>\n",
       "      <td>high</td>\n",
       "      <td>unacc</td>\n",
       "    </tr>\n",
       "    <tr>\n",
       "      <th>3</th>\n",
       "      <td>vhigh</td>\n",
       "      <td>vhigh</td>\n",
       "      <td>2</td>\n",
       "      <td>2</td>\n",
       "      <td>med</td>\n",
       "      <td>low</td>\n",
       "      <td>unacc</td>\n",
       "    </tr>\n",
       "    <tr>\n",
       "      <th>4</th>\n",
       "      <td>vhigh</td>\n",
       "      <td>vhigh</td>\n",
       "      <td>2</td>\n",
       "      <td>2</td>\n",
       "      <td>med</td>\n",
       "      <td>med</td>\n",
       "      <td>unacc</td>\n",
       "    </tr>\n",
       "  </tbody>\n",
       "</table>\n",
       "</div>"
      ],
      "text/plain": [
       "  Buying Maintainence Doors Persons Lug Boot Safety  Class\n",
       "0  vhigh        vhigh     2       2    small    low  unacc\n",
       "1  vhigh        vhigh     2       2    small    med  unacc\n",
       "2  vhigh        vhigh     2       2    small   high  unacc\n",
       "3  vhigh        vhigh     2       2      med    low  unacc\n",
       "4  vhigh        vhigh     2       2      med    med  unacc"
      ]
     },
     "execution_count": 259,
     "metadata": {},
     "output_type": "execute_result"
    }
   ],
   "source": [
    "df1 = df.copy()\n",
    "df1.head()"
   ]
  },
  {
   "cell_type": "code",
   "execution_count": 260,
   "metadata": {},
   "outputs": [],
   "source": [
    "df1.drop(['Class'], axis=1, inplace=True)"
   ]
  },
  {
   "cell_type": "code",
   "execution_count": 261,
   "metadata": {},
   "outputs": [
    {
     "data": {
      "text/html": [
       "<div>\n",
       "<style scoped>\n",
       "    .dataframe tbody tr th:only-of-type {\n",
       "        vertical-align: middle;\n",
       "    }\n",
       "\n",
       "    .dataframe tbody tr th {\n",
       "        vertical-align: top;\n",
       "    }\n",
       "\n",
       "    .dataframe thead th {\n",
       "        text-align: right;\n",
       "    }\n",
       "</style>\n",
       "<table border=\"1\" class=\"dataframe\">\n",
       "  <thead>\n",
       "    <tr style=\"text-align: right;\">\n",
       "      <th></th>\n",
       "      <th>Buying</th>\n",
       "      <th>Maintainence</th>\n",
       "      <th>Doors</th>\n",
       "      <th>Persons</th>\n",
       "      <th>Lug Boot</th>\n",
       "      <th>Safety</th>\n",
       "    </tr>\n",
       "  </thead>\n",
       "  <tbody>\n",
       "    <tr>\n",
       "      <th>0</th>\n",
       "      <td>vhigh</td>\n",
       "      <td>vhigh</td>\n",
       "      <td>2</td>\n",
       "      <td>2</td>\n",
       "      <td>small</td>\n",
       "      <td>low</td>\n",
       "    </tr>\n",
       "    <tr>\n",
       "      <th>1</th>\n",
       "      <td>vhigh</td>\n",
       "      <td>vhigh</td>\n",
       "      <td>2</td>\n",
       "      <td>2</td>\n",
       "      <td>small</td>\n",
       "      <td>med</td>\n",
       "    </tr>\n",
       "    <tr>\n",
       "      <th>2</th>\n",
       "      <td>vhigh</td>\n",
       "      <td>vhigh</td>\n",
       "      <td>2</td>\n",
       "      <td>2</td>\n",
       "      <td>small</td>\n",
       "      <td>high</td>\n",
       "    </tr>\n",
       "    <tr>\n",
       "      <th>3</th>\n",
       "      <td>vhigh</td>\n",
       "      <td>vhigh</td>\n",
       "      <td>2</td>\n",
       "      <td>2</td>\n",
       "      <td>med</td>\n",
       "      <td>low</td>\n",
       "    </tr>\n",
       "    <tr>\n",
       "      <th>4</th>\n",
       "      <td>vhigh</td>\n",
       "      <td>vhigh</td>\n",
       "      <td>2</td>\n",
       "      <td>2</td>\n",
       "      <td>med</td>\n",
       "      <td>med</td>\n",
       "    </tr>\n",
       "  </tbody>\n",
       "</table>\n",
       "</div>"
      ],
      "text/plain": [
       "  Buying Maintainence Doors Persons Lug Boot Safety\n",
       "0  vhigh        vhigh     2       2    small    low\n",
       "1  vhigh        vhigh     2       2    small    med\n",
       "2  vhigh        vhigh     2       2    small   high\n",
       "3  vhigh        vhigh     2       2      med    low\n",
       "4  vhigh        vhigh     2       2      med    med"
      ]
     },
     "execution_count": 261,
     "metadata": {},
     "output_type": "execute_result"
    }
   ],
   "source": [
    "df1.head()"
   ]
  },
  {
   "cell_type": "code",
   "execution_count": 262,
   "metadata": {},
   "outputs": [],
   "source": [
    "# Convert our categorical data\n",
    "\n",
    "from sklearn.preprocessing import LabelEncoder\n",
    "encode = LabelEncoder()\n",
    "\n",
    "df1['Buying'] = encode.fit_transform(df1['Buying'])\n",
    "df1['Maintainence'] = encode.fit_transform(df1['Maintainence'])\n",
    "df1['Doors'] = encode.fit_transform(df1['Doors'])\n",
    "df1['Persons'] = encode.fit_transform(df1['Persons'])\n",
    "df1['Lug Boot'] = encode.fit_transform(df1['Lug Boot'])\n",
    "df1['Safety'] = encode.fit_transform(df1['Safety'])\n",
    "#df['Class'] = encode.fit_transform(df['Class'])\n"
   ]
  },
  {
   "cell_type": "code",
   "execution_count": 263,
   "metadata": {},
   "outputs": [
    {
     "data": {
      "text/html": [
       "<div>\n",
       "<style scoped>\n",
       "    .dataframe tbody tr th:only-of-type {\n",
       "        vertical-align: middle;\n",
       "    }\n",
       "\n",
       "    .dataframe tbody tr th {\n",
       "        vertical-align: top;\n",
       "    }\n",
       "\n",
       "    .dataframe thead th {\n",
       "        text-align: right;\n",
       "    }\n",
       "</style>\n",
       "<table border=\"1\" class=\"dataframe\">\n",
       "  <thead>\n",
       "    <tr style=\"text-align: right;\">\n",
       "      <th></th>\n",
       "      <th>Buying</th>\n",
       "      <th>Maintainence</th>\n",
       "      <th>Doors</th>\n",
       "      <th>Persons</th>\n",
       "      <th>Lug Boot</th>\n",
       "      <th>Safety</th>\n",
       "    </tr>\n",
       "  </thead>\n",
       "  <tbody>\n",
       "    <tr>\n",
       "      <th>0</th>\n",
       "      <td>3</td>\n",
       "      <td>3</td>\n",
       "      <td>0</td>\n",
       "      <td>0</td>\n",
       "      <td>2</td>\n",
       "      <td>1</td>\n",
       "    </tr>\n",
       "    <tr>\n",
       "      <th>1</th>\n",
       "      <td>3</td>\n",
       "      <td>3</td>\n",
       "      <td>0</td>\n",
       "      <td>0</td>\n",
       "      <td>2</td>\n",
       "      <td>2</td>\n",
       "    </tr>\n",
       "    <tr>\n",
       "      <th>2</th>\n",
       "      <td>3</td>\n",
       "      <td>3</td>\n",
       "      <td>0</td>\n",
       "      <td>0</td>\n",
       "      <td>2</td>\n",
       "      <td>0</td>\n",
       "    </tr>\n",
       "    <tr>\n",
       "      <th>3</th>\n",
       "      <td>3</td>\n",
       "      <td>3</td>\n",
       "      <td>0</td>\n",
       "      <td>0</td>\n",
       "      <td>1</td>\n",
       "      <td>1</td>\n",
       "    </tr>\n",
       "    <tr>\n",
       "      <th>4</th>\n",
       "      <td>3</td>\n",
       "      <td>3</td>\n",
       "      <td>0</td>\n",
       "      <td>0</td>\n",
       "      <td>1</td>\n",
       "      <td>2</td>\n",
       "    </tr>\n",
       "  </tbody>\n",
       "</table>\n",
       "</div>"
      ],
      "text/plain": [
       "   Buying  Maintainence  Doors  Persons  Lug Boot  Safety\n",
       "0       3             3      0        0         2       1\n",
       "1       3             3      0        0         2       2\n",
       "2       3             3      0        0         2       0\n",
       "3       3             3      0        0         1       1\n",
       "4       3             3      0        0         1       2"
      ]
     },
     "execution_count": 263,
     "metadata": {},
     "output_type": "execute_result"
    }
   ],
   "source": [
    "df1.head()"
   ]
  },
  {
   "cell_type": "code",
   "execution_count": 264,
   "metadata": {},
   "outputs": [
    {
     "data": {
      "text/html": [
       "<div>\n",
       "<style scoped>\n",
       "    .dataframe tbody tr th:only-of-type {\n",
       "        vertical-align: middle;\n",
       "    }\n",
       "\n",
       "    .dataframe tbody tr th {\n",
       "        vertical-align: top;\n",
       "    }\n",
       "\n",
       "    .dataframe thead th {\n",
       "        text-align: right;\n",
       "    }\n",
       "</style>\n",
       "<table border=\"1\" class=\"dataframe\">\n",
       "  <thead>\n",
       "    <tr style=\"text-align: right;\">\n",
       "      <th></th>\n",
       "      <th>Buying</th>\n",
       "      <th>Maintainence</th>\n",
       "      <th>Doors</th>\n",
       "      <th>Persons</th>\n",
       "      <th>Lug Boot</th>\n",
       "      <th>Safety</th>\n",
       "    </tr>\n",
       "  </thead>\n",
       "  <tbody>\n",
       "    <tr>\n",
       "      <th>count</th>\n",
       "      <td>1728.000000</td>\n",
       "      <td>1728.000000</td>\n",
       "      <td>1728.000000</td>\n",
       "      <td>1728.000000</td>\n",
       "      <td>1728.000000</td>\n",
       "      <td>1728.000000</td>\n",
       "    </tr>\n",
       "    <tr>\n",
       "      <th>mean</th>\n",
       "      <td>1.500000</td>\n",
       "      <td>1.500000</td>\n",
       "      <td>1.500000</td>\n",
       "      <td>1.000000</td>\n",
       "      <td>1.000000</td>\n",
       "      <td>1.000000</td>\n",
       "    </tr>\n",
       "    <tr>\n",
       "      <th>std</th>\n",
       "      <td>1.118358</td>\n",
       "      <td>1.118358</td>\n",
       "      <td>1.118358</td>\n",
       "      <td>0.816733</td>\n",
       "      <td>0.816733</td>\n",
       "      <td>0.816733</td>\n",
       "    </tr>\n",
       "    <tr>\n",
       "      <th>min</th>\n",
       "      <td>0.000000</td>\n",
       "      <td>0.000000</td>\n",
       "      <td>0.000000</td>\n",
       "      <td>0.000000</td>\n",
       "      <td>0.000000</td>\n",
       "      <td>0.000000</td>\n",
       "    </tr>\n",
       "    <tr>\n",
       "      <th>25%</th>\n",
       "      <td>0.750000</td>\n",
       "      <td>0.750000</td>\n",
       "      <td>0.750000</td>\n",
       "      <td>0.000000</td>\n",
       "      <td>0.000000</td>\n",
       "      <td>0.000000</td>\n",
       "    </tr>\n",
       "    <tr>\n",
       "      <th>50%</th>\n",
       "      <td>1.500000</td>\n",
       "      <td>1.500000</td>\n",
       "      <td>1.500000</td>\n",
       "      <td>1.000000</td>\n",
       "      <td>1.000000</td>\n",
       "      <td>1.000000</td>\n",
       "    </tr>\n",
       "    <tr>\n",
       "      <th>75%</th>\n",
       "      <td>2.250000</td>\n",
       "      <td>2.250000</td>\n",
       "      <td>2.250000</td>\n",
       "      <td>2.000000</td>\n",
       "      <td>2.000000</td>\n",
       "      <td>2.000000</td>\n",
       "    </tr>\n",
       "    <tr>\n",
       "      <th>max</th>\n",
       "      <td>3.000000</td>\n",
       "      <td>3.000000</td>\n",
       "      <td>3.000000</td>\n",
       "      <td>2.000000</td>\n",
       "      <td>2.000000</td>\n",
       "      <td>2.000000</td>\n",
       "    </tr>\n",
       "  </tbody>\n",
       "</table>\n",
       "</div>"
      ],
      "text/plain": [
       "            Buying  Maintainence        Doors      Persons     Lug Boot  \\\n",
       "count  1728.000000   1728.000000  1728.000000  1728.000000  1728.000000   \n",
       "mean      1.500000      1.500000     1.500000     1.000000     1.000000   \n",
       "std       1.118358      1.118358     1.118358     0.816733     0.816733   \n",
       "min       0.000000      0.000000     0.000000     0.000000     0.000000   \n",
       "25%       0.750000      0.750000     0.750000     0.000000     0.000000   \n",
       "50%       1.500000      1.500000     1.500000     1.000000     1.000000   \n",
       "75%       2.250000      2.250000     2.250000     2.000000     2.000000   \n",
       "max       3.000000      3.000000     3.000000     2.000000     2.000000   \n",
       "\n",
       "            Safety  \n",
       "count  1728.000000  \n",
       "mean      1.000000  \n",
       "std       0.816733  \n",
       "min       0.000000  \n",
       "25%       0.000000  \n",
       "50%       1.000000  \n",
       "75%       2.000000  \n",
       "max       2.000000  "
      ]
     },
     "execution_count": 264,
     "metadata": {},
     "output_type": "execute_result"
    }
   ],
   "source": [
    "df1.describe()"
   ]
  },
  {
   "cell_type": "markdown",
   "metadata": {},
   "source": [
    "## Explore the Data"
   ]
  },
  {
   "cell_type": "code",
   "execution_count": 265,
   "metadata": {},
   "outputs": [],
   "source": [
    "import seaborn as sns\n",
    "\n",
    "sns.set(style=\"whitegrid\")"
   ]
  },
  {
   "cell_type": "code",
   "execution_count": 266,
   "metadata": {},
   "outputs": [
    {
     "name": "stderr",
     "output_type": "stream",
     "text": [
      "C:\\Users\\Preetham\\Anaconda3\\lib\\site-packages\\matplotlib\\axes\\_axes.py:6462: UserWarning:\n",
      "\n",
      "The 'normed' kwarg is deprecated, and has been replaced by the 'density' kwarg.\n",
      "\n"
     ]
    },
    {
     "data": {
      "text/plain": [
       "<matplotlib.axes._subplots.AxesSubplot at 0x189450a6d68>"
      ]
     },
     "execution_count": 266,
     "metadata": {},
     "output_type": "execute_result"
    },
    {
     "data": {
      "image/png": "[encoded data removed]",
      "text/plain": [
       "<Figure size 432x288 with 1 Axes>"
      ]
     },
     "metadata": {},
     "output_type": "display_data"
    }
   ],
   "source": [
    "sns.distplot(df1['Buying'])"
   ]
  },
  {
   "cell_type": "code",
   "execution_count": 267,
   "metadata": {},
   "outputs": [
    {
     "data": {
      "text/plain": [
       "<matplotlib.axes._subplots.AxesSubplot at 0x189450e1748>"
      ]
     },
     "execution_count": 267,
     "metadata": {},
     "output_type": "execute_result"
    },
    {
     "data": {
      "image/png": "[encoded data removed]",
      "text/plain": [
       "<Figure size 432x288 with 1 Axes>"
      ]
     },
     "metadata": {},
     "output_type": "display_data"
    }
   ],
   "source": [
    "sns.barplot(data=df1, orient=\"h\")"
   ]
  },
  {
   "cell_type": "code",
   "execution_count": 268,
   "metadata": {
    "scrolled": true
   },
   "outputs": [
    {
     "data": {
      "text/plain": [
       "<matplotlib.axes._subplots.AxesSubplot at 0x18945176128>"
      ]
     },
     "execution_count": 268,
     "metadata": {},
     "output_type": "execute_result"
    },
    {
     "data": {
      "image/png": "[encoded data removed]",
      "text/plain": [
       "<Figure size 432x288 with 1 Axes>"
      ]
     },
     "metadata": {},
     "output_type": "display_data"
    }
   ],
   "source": [
    "sns.boxplot(data=df1)"
   ]
  },
  {
   "cell_type": "markdown",
   "metadata": {},
   "source": [
    "## Split into train and test data"
   ]
  },
  {
   "cell_type": "code",
   "execution_count": 269,
   "metadata": {},
   "outputs": [],
   "source": [
    "from sklearn import datasets\n",
    "from sklearn.model_selection import train_test_split"
   ]
  },
  {
   "cell_type": "code",
   "execution_count": 270,
   "metadata": {},
   "outputs": [],
   "source": [
    "X_train,X_test,y_train,y_test = train_test_split(df1,y,test_size = 0.3, random_state = 10)"
   ]
  },
  {
   "cell_type": "code",
   "execution_count": 271,
   "metadata": {
    "scrolled": true
   },
   "outputs": [
    {
     "name": "stdout",
     "output_type": "stream",
     "text": [
      "(1209, 6)\n",
      "(519, 6)\n",
      "(1209,)\n",
      "(519,)\n"
     ]
    }
   ],
   "source": [
    "print(X_train.shape)\n",
    "print(X_test.shape)\n",
    "print(y_train.shape)\n",
    "print(y_test.shape)"
   ]
  },
  {
   "cell_type": "markdown",
   "metadata": {},
   "source": [
    "## Logistic Regression"
   ]
  },
  {
   "cell_type": "code",
   "execution_count": 272,
   "metadata": {},
   "outputs": [
    {
     "data": {
      "text/plain": [
       "LogisticRegression(C=1.0, class_weight=None, dual=False, fit_intercept=True,\n",
       "          intercept_scaling=1, max_iter=100, multi_class='ovr', n_jobs=1,\n",
       "          penalty='l2', random_state=None, solver='liblinear', tol=0.0001,\n",
       "          verbose=0, warm_start=False)"
      ]
     },
     "execution_count": 272,
     "metadata": {},
     "output_type": "execute_result"
    }
   ],
   "source": [
    "from sklearn.linear_model import LogisticRegression\n",
    "\n",
    "logit = LogisticRegression()\n",
    "logit.fit(X_train,y_train)"
   ]
  },
  {
   "cell_type": "code",
   "execution_count": 273,
   "metadata": {},
   "outputs": [],
   "source": [
    "y_pred = logit.predict(X_test)"
   ]
  },
  {
   "cell_type": "code",
   "execution_count": 274,
   "metadata": {},
   "outputs": [
    {
     "data": {
      "text/plain": [
       "[('unacc', 'unacc'),\n",
       " ('unacc', 'unacc'),\n",
       " ('unacc', 'unacc'),\n",
       " ('unacc', 'unacc'),\n",
       " ('unacc', 'good'),\n",
       " ('unacc', 'unacc'),\n",
       " ('unacc', 'acc'),\n",
       " ('unacc', 'acc'),\n",
       " ('acc', 'unacc'),\n",
       " ('unacc', 'acc'),\n",
       " ('acc', 'unacc'),\n",
       " ('unacc', 'unacc'),\n",
       " ('unacc', 'unacc'),\n",
       " ('unacc', 'unacc'),\n",
       " ('unacc', 'acc'),\n",
       " ('unacc', 'acc'),\n",
       " ('unacc', 'unacc'),\n",
       " ('unacc', 'unacc'),\n",
       " ('unacc', 'unacc'),\n",
       " ('acc', 'unacc'),\n",
       " ('unacc', 'unacc'),\n",
       " ('unacc', 'unacc'),\n",
       " ('acc', 'unacc'),\n",
       " ('unacc', 'unacc'),\n",
       " ('unacc', 'unacc'),\n",
       " ('unacc', 'unacc'),\n",
       " ('acc', 'unacc'),\n",
       " ('unacc', 'acc'),\n",
       " ('unacc', 'unacc'),\n",
       " ('unacc', 'unacc'),\n",
       " ('unacc', 'unacc'),\n",
       " ('unacc', 'unacc'),\n",
       " ('unacc', 'unacc'),\n",
       " ('unacc', 'acc'),\n",
       " ('unacc', 'unacc'),\n",
       " ('unacc', 'unacc'),\n",
       " ('unacc', 'unacc'),\n",
       " ('unacc', 'unacc'),\n",
       " ('unacc', 'unacc'),\n",
       " ('acc', 'acc'),\n",
       " ('unacc', 'unacc'),\n",
       " ('unacc', 'unacc'),\n",
       " ('unacc', 'unacc'),\n",
       " ('unacc', 'vgood'),\n",
       " ('unacc', 'unacc'),\n",
       " ('unacc', 'acc'),\n",
       " ('unacc', 'unacc'),\n",
       " ('unacc', 'unacc'),\n",
       " ('unacc', 'unacc'),\n",
       " ('unacc', 'unacc'),\n",
       " ('unacc', 'unacc'),\n",
       " ('acc', 'acc'),\n",
       " ('unacc', 'good'),\n",
       " ('unacc', 'vgood'),\n",
       " ('unacc', 'good'),\n",
       " ('unacc', 'unacc'),\n",
       " ('unacc', 'acc'),\n",
       " ('unacc', 'unacc'),\n",
       " ('unacc', 'acc'),\n",
       " ('unacc', 'unacc'),\n",
       " ('unacc', 'unacc'),\n",
       " ('unacc', 'unacc'),\n",
       " ('unacc', 'unacc'),\n",
       " ('acc', 'vgood'),\n",
       " ('unacc', 'unacc'),\n",
       " ('unacc', 'unacc'),\n",
       " ('unacc', 'acc'),\n",
       " ('acc', 'acc'),\n",
       " ('unacc', 'unacc'),\n",
       " ('unacc', 'unacc'),\n",
       " ('acc', 'vgood'),\n",
       " ('unacc', 'unacc'),\n",
       " ('unacc', 'unacc'),\n",
       " ('unacc', 'unacc'),\n",
       " ('unacc', 'good'),\n",
       " ('unacc', 'unacc'),\n",
       " ('unacc', 'acc'),\n",
       " ('unacc', 'vgood'),\n",
       " ('unacc', 'unacc'),\n",
       " ('unacc', 'unacc'),\n",
       " ('acc', 'unacc'),\n",
       " ('acc', 'unacc'),\n",
       " ('unacc', 'unacc'),\n",
       " ('unacc', 'unacc'),\n",
       " ('unacc', 'unacc'),\n",
       " ('unacc', 'unacc'),\n",
       " ('unacc', 'unacc'),\n",
       " ('acc', 'acc'),\n",
       " ('unacc', 'unacc'),\n",
       " ('unacc', 'acc'),\n",
       " ('unacc', 'unacc'),\n",
       " ('unacc', 'unacc'),\n",
       " ('unacc', 'unacc'),\n",
       " ('unacc', 'unacc'),\n",
       " ('unacc', 'unacc'),\n",
       " ('unacc', 'unacc'),\n",
       " ('unacc', 'unacc'),\n",
       " ('unacc', 'unacc'),\n",
       " ('unacc', 'unacc'),\n",
       " ('unacc', 'unacc'),\n",
       " ('unacc', 'unacc'),\n",
       " ('unacc', 'unacc'),\n",
       " ('unacc', 'unacc'),\n",
       " ('unacc', 'unacc'),\n",
       " ('unacc', 'acc'),\n",
       " ('unacc', 'unacc'),\n",
       " ('unacc', 'unacc'),\n",
       " ('unacc', 'unacc'),\n",
       " ('unacc', 'unacc'),\n",
       " ('unacc', 'unacc'),\n",
       " ('unacc', 'unacc'),\n",
       " ('unacc', 'unacc'),\n",
       " ('unacc', 'unacc'),\n",
       " ('unacc', 'unacc'),\n",
       " ('unacc', 'acc'),\n",
       " ('unacc', 'unacc'),\n",
       " ('unacc', 'unacc'),\n",
       " ('unacc', 'good'),\n",
       " ('unacc', 'unacc'),\n",
       " ('acc', 'unacc'),\n",
       " ('unacc', 'unacc'),\n",
       " ('unacc', 'unacc'),\n",
       " ('unacc', 'unacc'),\n",
       " ('unacc', 'unacc'),\n",
       " ('unacc', 'acc'),\n",
       " ('unacc', 'unacc'),\n",
       " ('unacc', 'unacc'),\n",
       " ('unacc', 'unacc'),\n",
       " ('unacc', 'unacc'),\n",
       " ('unacc', 'unacc'),\n",
       " ('acc', 'unacc'),\n",
       " ('acc', 'unacc'),\n",
       " ('unacc', 'unacc'),\n",
       " ('unacc', 'unacc'),\n",
       " ('unacc', 'acc'),\n",
       " ('unacc', 'unacc'),\n",
       " ('acc', 'unacc'),\n",
       " ('unacc', 'vgood'),\n",
       " ('unacc', 'unacc'),\n",
       " ('unacc', 'unacc'),\n",
       " ('unacc', 'acc'),\n",
       " ('unacc', 'unacc'),\n",
       " ('acc', 'acc'),\n",
       " ('acc', 'vgood'),\n",
       " ('unacc', 'unacc'),\n",
       " ('unacc', 'unacc'),\n",
       " ('unacc', 'unacc'),\n",
       " ('unacc', 'unacc'),\n",
       " ('unacc', 'unacc'),\n",
       " ('acc', 'unacc'),\n",
       " ('unacc', 'unacc'),\n",
       " ('unacc', 'unacc'),\n",
       " ('unacc', 'vgood'),\n",
       " ('unacc', 'unacc'),\n",
       " ('unacc', 'unacc'),\n",
       " ('unacc', 'unacc'),\n",
       " ('unacc', 'unacc'),\n",
       " ('unacc', 'unacc'),\n",
       " ('acc', 'good'),\n",
       " ('unacc', 'good'),\n",
       " ('unacc', 'unacc'),\n",
       " ('unacc', 'acc'),\n",
       " ('unacc', 'unacc'),\n",
       " ('unacc', 'unacc'),\n",
       " ('unacc', 'unacc'),\n",
       " ('acc', 'unacc'),\n",
       " ('unacc', 'unacc'),\n",
       " ('unacc', 'unacc'),\n",
       " ('unacc', 'unacc'),\n",
       " ('unacc', 'unacc'),\n",
       " ('unacc', 'unacc'),\n",
       " ('unacc', 'good'),\n",
       " ('unacc', 'unacc'),\n",
       " ('acc', 'vgood'),\n",
       " ('unacc', 'unacc'),\n",
       " ('unacc', 'unacc'),\n",
       " ('unacc', 'unacc'),\n",
       " ('acc', 'unacc'),\n",
       " ('acc', 'acc'),\n",
       " ('unacc', 'acc'),\n",
       " ('unacc', 'unacc'),\n",
       " ('unacc', 'unacc'),\n",
       " ('unacc', 'unacc'),\n",
       " ('unacc', 'unacc'),\n",
       " ('unacc', 'vgood'),\n",
       " ('unacc', 'unacc'),\n",
       " ('unacc', 'acc'),\n",
       " ('acc', 'unacc'),\n",
       " ('unacc', 'good'),\n",
       " ('unacc', 'acc'),\n",
       " ('acc', 'unacc'),\n",
       " ('unacc', 'unacc'),\n",
       " ('unacc', 'unacc'),\n",
       " ('unacc', 'unacc'),\n",
       " ('unacc', 'acc'),\n",
       " ('acc', 'vgood'),\n",
       " ('unacc', 'acc'),\n",
       " ('unacc', 'acc'),\n",
       " ('unacc', 'unacc'),\n",
       " ('unacc', 'unacc'),\n",
       " ('unacc', 'unacc'),\n",
       " ('unacc', 'unacc'),\n",
       " ('unacc', 'acc'),\n",
       " ('unacc', 'unacc'),\n",
       " ('unacc', 'unacc'),\n",
       " ('unacc', 'unacc'),\n",
       " ('unacc', 'unacc'),\n",
       " ('unacc', 'unacc'),\n",
       " ('unacc', 'unacc'),\n",
       " ('unacc', 'unacc'),\n",
       " ('acc', 'vgood'),\n",
       " ('unacc', 'acc'),\n",
       " ('unacc', 'unacc'),\n",
       " ('acc', 'unacc'),\n",
       " ('unacc', 'unacc'),\n",
       " ('acc', 'vgood'),\n",
       " ('unacc', 'unacc'),\n",
       " ('unacc', 'unacc'),\n",
       " ('unacc', 'good'),\n",
       " ('unacc', 'unacc'),\n",
       " ('acc', 'unacc'),\n",
       " ('unacc', 'unacc'),\n",
       " ('unacc', 'unacc'),\n",
       " ('unacc', 'unacc'),\n",
       " ('unacc', 'unacc'),\n",
       " ('unacc', 'unacc'),\n",
       " ('acc', 'acc'),\n",
       " ('unacc', 'unacc'),\n",
       " ('unacc', 'unacc'),\n",
       " ('unacc', 'unacc'),\n",
       " ('unacc', 'unacc'),\n",
       " ('unacc', 'unacc'),\n",
       " ('unacc', 'acc'),\n",
       " ('unacc', 'acc'),\n",
       " ('unacc', 'unacc'),\n",
       " ('unacc', 'unacc'),\n",
       " ('unacc', 'unacc'),\n",
       " ('unacc', 'unacc'),\n",
       " ('unacc', 'vgood'),\n",
       " ('unacc', 'unacc'),\n",
       " ('unacc', 'unacc'),\n",
       " ('unacc', 'acc'),\n",
       " ('unacc', 'unacc'),\n",
       " ('unacc', 'acc'),\n",
       " ('unacc', 'unacc'),\n",
       " ('unacc', 'acc'),\n",
       " ('unacc', 'unacc'),\n",
       " ('unacc', 'unacc'),\n",
       " ('unacc', 'unacc'),\n",
       " ('unacc', 'unacc'),\n",
       " ('unacc', 'unacc'),\n",
       " ('unacc', 'acc'),\n",
       " ('unacc', 'unacc'),\n",
       " ('unacc', 'unacc'),\n",
       " ('unacc', 'unacc'),\n",
       " ('unacc', 'acc'),\n",
       " ('unacc', 'unacc'),\n",
       " ('unacc', 'unacc'),\n",
       " ('acc', 'acc'),\n",
       " ('unacc', 'unacc'),\n",
       " ('unacc', 'unacc'),\n",
       " ('unacc', 'unacc'),\n",
       " ('unacc', 'acc'),\n",
       " ('unacc', 'unacc'),\n",
       " ('unacc', 'unacc'),\n",
       " ('unacc', 'unacc'),\n",
       " ('unacc', 'acc'),\n",
       " ('unacc', 'unacc'),\n",
       " ('unacc', 'unacc'),\n",
       " ('unacc', 'acc'),\n",
       " ('unacc', 'unacc'),\n",
       " ('acc', 'unacc'),\n",
       " ('unacc', 'unacc'),\n",
       " ('acc', 'good'),\n",
       " ('unacc', 'good'),\n",
       " ('unacc', 'unacc'),\n",
       " ('unacc', 'unacc'),\n",
       " ('unacc', 'unacc'),\n",
       " ('acc', 'acc'),\n",
       " ('unacc', 'acc'),\n",
       " ('unacc', 'unacc'),\n",
       " ('acc', 'acc'),\n",
       " ('unacc', 'vgood'),\n",
       " ('acc', 'vgood'),\n",
       " ('unacc', 'acc'),\n",
       " ('unacc', 'unacc'),\n",
       " ('unacc', 'acc'),\n",
       " ('unacc', 'unacc'),\n",
       " ('unacc', 'unacc'),\n",
       " ('unacc', 'unacc'),\n",
       " ('unacc', 'vgood'),\n",
       " ('unacc', 'unacc'),\n",
       " ('unacc', 'unacc'),\n",
       " ('unacc', 'acc'),\n",
       " ('unacc', 'unacc'),\n",
       " ('unacc', 'unacc'),\n",
       " ('unacc', 'unacc'),\n",
       " ('unacc', 'unacc'),\n",
       " ('unacc', 'unacc'),\n",
       " ('acc', 'acc'),\n",
       " ('unacc', 'unacc'),\n",
       " ('unacc', 'unacc'),\n",
       " ('unacc', 'unacc'),\n",
       " ('unacc', 'vgood'),\n",
       " ('unacc', 'unacc'),\n",
       " ('unacc', 'unacc'),\n",
       " ('unacc', 'unacc'),\n",
       " ('unacc', 'acc'),\n",
       " ('unacc', 'unacc'),\n",
       " ('unacc', 'unacc'),\n",
       " ('unacc', 'unacc'),\n",
       " ('unacc', 'unacc'),\n",
       " ('unacc', 'acc'),\n",
       " ('acc', 'acc'),\n",
       " ('unacc', 'unacc'),\n",
       " ('unacc', 'unacc'),\n",
       " ('unacc', 'good'),\n",
       " ('unacc', 'unacc'),\n",
       " ('unacc', 'unacc'),\n",
       " ('unacc', 'unacc'),\n",
       " ('unacc', 'acc'),\n",
       " ('unacc', 'unacc'),\n",
       " ('unacc', 'unacc'),\n",
       " ('unacc', 'acc'),\n",
       " ('unacc', 'acc'),\n",
       " ('unacc', 'unacc'),\n",
       " ('unacc', 'acc'),\n",
       " ('unacc', 'acc'),\n",
       " ('unacc', 'unacc'),\n",
       " ('unacc', 'unacc'),\n",
       " ('unacc', 'acc'),\n",
       " ('unacc', 'acc'),\n",
       " ('unacc', 'unacc'),\n",
       " ('unacc', 'unacc'),\n",
       " ('unacc', 'unacc'),\n",
       " ('unacc', 'unacc'),\n",
       " ('unacc', 'unacc'),\n",
       " ('unacc', 'acc'),\n",
       " ('unacc', 'unacc'),\n",
       " ('unacc', 'unacc'),\n",
       " ('unacc', 'unacc'),\n",
       " ('unacc', 'acc'),\n",
       " ('unacc', 'unacc'),\n",
       " ('unacc', 'unacc'),\n",
       " ('unacc', 'unacc'),\n",
       " ('unacc', 'unacc'),\n",
       " ('unacc', 'unacc'),\n",
       " ('unacc', 'unacc'),\n",
       " ('acc', 'unacc'),\n",
       " ('unacc', 'unacc'),\n",
       " ('unacc', 'good'),\n",
       " ('unacc', 'vgood'),\n",
       " ('acc', 'vgood'),\n",
       " ('unacc', 'unacc'),\n",
       " ('unacc', 'unacc'),\n",
       " ('unacc', 'unacc'),\n",
       " ('unacc', 'unacc'),\n",
       " ('unacc', 'acc'),\n",
       " ('unacc', 'unacc'),\n",
       " ('unacc', 'unacc'),\n",
       " ('unacc', 'unacc'),\n",
       " ('acc', 'vgood'),\n",
       " ('unacc', 'unacc'),\n",
       " ('unacc', 'unacc'),\n",
       " ('unacc', 'good'),\n",
       " ('unacc', 'unacc'),\n",
       " ('unacc', 'good'),\n",
       " ('unacc', 'unacc'),\n",
       " ('unacc', 'unacc'),\n",
       " ('unacc', 'unacc'),\n",
       " ('acc', 'acc'),\n",
       " ('unacc', 'acc'),\n",
       " ('unacc', 'unacc'),\n",
       " ('acc', 'unacc'),\n",
       " ('unacc', 'unacc'),\n",
       " ('unacc', 'unacc'),\n",
       " ('unacc', 'unacc'),\n",
       " ('unacc', 'unacc'),\n",
       " ('unacc', 'unacc'),\n",
       " ('unacc', 'acc'),\n",
       " ('unacc', 'unacc'),\n",
       " ('unacc', 'acc'),\n",
       " ('unacc', 'good'),\n",
       " ('unacc', 'unacc'),\n",
       " ('unacc', 'unacc'),\n",
       " ('unacc', 'unacc'),\n",
       " ('unacc', 'unacc'),\n",
       " ('unacc', 'unacc'),\n",
       " ('unacc', 'acc'),\n",
       " ('acc', 'unacc'),\n",
       " ('acc', 'unacc'),\n",
       " ('unacc', 'vgood'),\n",
       " ('unacc', 'acc'),\n",
       " ('acc', 'acc'),\n",
       " ('acc', 'acc'),\n",
       " ('unacc', 'acc'),\n",
       " ('unacc', 'unacc'),\n",
       " ('unacc', 'acc'),\n",
       " ('unacc', 'unacc'),\n",
       " ('unacc', 'unacc'),\n",
       " ('unacc', 'unacc'),\n",
       " ('unacc', 'acc'),\n",
       " ('unacc', 'acc'),\n",
       " ('unacc', 'unacc'),\n",
       " ('unacc', 'acc'),\n",
       " ('unacc', 'unacc'),\n",
       " ('unacc', 'good'),\n",
       " ('unacc', 'acc'),\n",
       " ('unacc', 'unacc'),\n",
       " ('unacc', 'unacc'),\n",
       " ('unacc', 'acc'),\n",
       " ('unacc', 'unacc'),\n",
       " ('unacc', 'unacc'),\n",
       " ('unacc', 'unacc'),\n",
       " ('unacc', 'acc'),\n",
       " ('acc', 'good'),\n",
       " ('unacc', 'unacc'),\n",
       " ('unacc', 'acc'),\n",
       " ('acc', 'acc'),\n",
       " ('unacc', 'unacc'),\n",
       " ('unacc', 'acc'),\n",
       " ('unacc', 'unacc'),\n",
       " ('unacc', 'unacc'),\n",
       " ('unacc', 'unacc'),\n",
       " ('unacc', 'unacc'),\n",
       " ('unacc', 'unacc'),\n",
       " ('unacc', 'unacc'),\n",
       " ('unacc', 'unacc'),\n",
       " ('unacc', 'unacc'),\n",
       " ('unacc', 'unacc'),\n",
       " ('unacc', 'unacc'),\n",
       " ('unacc', 'unacc'),\n",
       " ('unacc', 'unacc'),\n",
       " ('unacc', 'acc'),\n",
       " ('unacc', 'unacc'),\n",
       " ('unacc', 'unacc'),\n",
       " ('unacc', 'vgood'),\n",
       " ('unacc', 'unacc'),\n",
       " ('unacc', 'unacc'),\n",
       " ('unacc', 'unacc'),\n",
       " ('acc', 'unacc'),\n",
       " ('unacc', 'acc'),\n",
       " ('acc', 'unacc'),\n",
       " ('unacc', 'unacc'),\n",
       " ('unacc', 'unacc'),\n",
       " ('unacc', 'acc'),\n",
       " ('acc', 'unacc'),\n",
       " ('unacc', 'unacc'),\n",
       " ('unacc', 'unacc'),\n",
       " ('unacc', 'acc'),\n",
       " ('unacc', 'unacc'),\n",
       " ('unacc', 'unacc'),\n",
       " ('acc', 'unacc'),\n",
       " ('acc', 'acc'),\n",
       " ('unacc', 'unacc'),\n",
       " ('unacc', 'unacc'),\n",
       " ('unacc', 'acc'),\n",
       " ('acc', 'vgood'),\n",
       " ('unacc', 'unacc'),\n",
       " ('unacc', 'unacc'),\n",
       " ('unacc', 'unacc'),\n",
       " ('unacc', 'unacc'),\n",
       " ('unacc', 'good'),\n",
       " ('unacc', 'unacc'),\n",
       " ('unacc', 'unacc'),\n",
       " ('unacc', 'unacc'),\n",
       " ('unacc', 'unacc'),\n",
       " ('unacc', 'unacc'),\n",
       " ('unacc', 'unacc'),\n",
       " ('unacc', 'acc'),\n",
       " ('acc', 'unacc'),\n",
       " ('unacc', 'acc'),\n",
       " ('unacc', 'unacc'),\n",
       " ('acc', 'acc'),\n",
       " ('unacc', 'unacc'),\n",
       " ('unacc', 'unacc'),\n",
       " ('unacc', 'unacc'),\n",
       " ('unacc', 'unacc'),\n",
       " ('acc', 'acc'),\n",
       " ('unacc', 'unacc'),\n",
       " ('unacc', 'unacc'),\n",
       " ('unacc', 'unacc'),\n",
       " ('unacc', 'unacc'),\n",
       " ('unacc', 'unacc'),\n",
       " ('unacc', 'unacc'),\n",
       " ('unacc', 'unacc'),\n",
       " ('unacc', 'unacc'),\n",
       " ('unacc', 'unacc'),\n",
       " ('unacc', 'good'),\n",
       " ('unacc', 'unacc'),\n",
       " ('unacc', 'unacc'),\n",
       " ('unacc', 'unacc'),\n",
       " ('unacc', 'unacc'),\n",
       " ('unacc', 'unacc'),\n",
       " ('unacc', 'acc'),\n",
       " ('acc', 'acc'),\n",
       " ('unacc', 'unacc'),\n",
       " ('unacc', 'unacc'),\n",
       " ('unacc', 'unacc'),\n",
       " ('unacc', 'acc'),\n",
       " ('unacc', 'unacc'),\n",
       " ('unacc', 'unacc'),\n",
       " ('unacc', 'unacc'),\n",
       " ('unacc', 'unacc'),\n",
       " ('unacc', 'unacc'),\n",
       " ('acc', 'acc'),\n",
       " ('unacc', 'unacc'),\n",
       " ('unacc', 'acc'),\n",
       " ('unacc', 'unacc'),\n",
       " ('unacc', 'unacc'),\n",
       " ('acc', 'acc'),\n",
       " ('unacc', 'unacc'),\n",
       " ('unacc', 'acc'),\n",
       " ('unacc', 'unacc'),\n",
       " ('acc', 'unacc'),\n",
       " ('unacc', 'unacc'),\n",
       " ('unacc', 'vgood'),\n",
       " ('unacc', 'unacc'),\n",
       " ('acc', 'acc')]"
      ]
     },
     "execution_count": 274,
     "metadata": {},
     "output_type": "execute_result"
    }
   ],
   "source": [
    "list(zip(y_pred, y_test))"
   ]
  },
  {
   "cell_type": "code",
   "execution_count": 275,
   "metadata": {},
   "outputs": [
    {
     "name": "stdout",
     "output_type": "stream",
     "text": [
      "[[-0.09240378 -0.11335641  0.0397914   1.01729615 -0.23701168 -0.26604948]\n",
      " [-0.18401379 -0.24291412  0.05319108  0.68095076 -0.21948242  0.27338938]\n",
      " [ 0.12078664  0.17897248 -0.11659616 -1.25529592  0.42696084  0.44017224]\n",
      " [-0.16433221 -0.29697611  0.22605217  0.96787135 -1.26703668 -2.91430904]]\n",
      "[-1.65897035 -3.50596318  1.17795089 -2.27620813]\n"
     ]
    }
   ],
   "source": [
    "print(logit.coef_)\n",
    "print(logit.intercept_)"
   ]
  },
  {
   "cell_type": "markdown",
   "metadata": {},
   "source": [
    "### Evaluating results"
   ]
  },
  {
   "cell_type": "code",
   "execution_count": 277,
   "metadata": {},
   "outputs": [
    {
     "name": "stdout",
     "output_type": "stream",
     "text": [
      "0.7032755298651252\n"
     ]
    }
   ],
   "source": [
    "from sklearn.metrics import accuracy_score, precision_score, recall_score, f1_score,confusion_matrix,classification_report\n",
    "\n",
    "lr_accuracy_score=metrics.accuracy_score(y_test, y_pred)\n",
    "print(lr_accuracy_score)"
   ]
  },
  {
   "cell_type": "code",
   "execution_count": 289,
   "metadata": {},
   "outputs": [
    {
     "name": "stdout",
     "output_type": "stream",
     "text": [
      "0.6081660303993114\n",
      "0.7032755298651252\n",
      "0.647195743441324\n"
     ]
    },
    {
     "name": "stderr",
     "output_type": "stream",
     "text": [
      "C:\\Users\\Preetham\\Anaconda3\\lib\\site-packages\\sklearn\\metrics\\classification.py:1135: UndefinedMetricWarning:\n",
      "\n",
      "Precision is ill-defined and being set to 0.0 in labels with no predicted samples.\n",
      "\n",
      "C:\\Users\\Preetham\\Anaconda3\\lib\\site-packages\\sklearn\\metrics\\classification.py:1135: UndefinedMetricWarning:\n",
      "\n",
      "F-score is ill-defined and being set to 0.0 in labels with no predicted samples.\n",
      "\n"
     ]
    }
   ],
   "source": [
    "lr_precision_score=metrics.precision_score(y_test, y_pred, average='weighted')\n",
    "lr_recall_score=metrics.recall_score(y_test, y_pred, average='weighted')\n",
    "lr_f1_score=metrics.f1_score(y_test, y_pred, average='weighted')\n",
    "print(lr_precision_score)\n",
    "print(lr_recall_score)\n",
    "print(lr_f1_score)"
   ]
  },
  {
   "cell_type": "code",
   "execution_count": 290,
   "metadata": {},
   "outputs": [
    {
     "name": "stdout",
     "output_type": "stream",
     "text": [
      "             precision    recall  f1-score   support\n",
      "\n",
      "        acc       0.35      0.23      0.27       102\n",
      "       good       0.00      0.00      0.00        21\n",
      "      unacc       0.75      0.92      0.83       371\n",
      "      vgood       0.00      0.00      0.00        25\n",
      "\n",
      "avg / total       0.61      0.70      0.65       519\n",
      "\n"
     ]
    },
    {
     "name": "stderr",
     "output_type": "stream",
     "text": [
      "C:\\Users\\Preetham\\Anaconda3\\lib\\site-packages\\sklearn\\metrics\\classification.py:1135: UndefinedMetricWarning:\n",
      "\n",
      "Precision and F-score are ill-defined and being set to 0.0 in labels with no predicted samples.\n",
      "\n"
     ]
    }
   ],
   "source": [
    "print(classification_report(y_test, y_pred))"
   ]
  },
  {
   "cell_type": "code",
   "execution_count": 291,
   "metadata": {},
   "outputs": [],
   "source": [
    "cmatrix = confusion_matrix(y_test, y_pred)"
   ]
  },
  {
   "cell_type": "code",
   "execution_count": 292,
   "metadata": {},
   "outputs": [
    {
     "data": {
      "text/html": [
       "<div>\n",
       "<style scoped>\n",
       "    .dataframe tbody tr th:only-of-type {\n",
       "        vertical-align: middle;\n",
       "    }\n",
       "\n",
       "    .dataframe tbody tr th {\n",
       "        vertical-align: top;\n",
       "    }\n",
       "\n",
       "    .dataframe thead th {\n",
       "        text-align: right;\n",
       "    }\n",
       "</style>\n",
       "<table border=\"1\" class=\"dataframe\">\n",
       "  <thead>\n",
       "    <tr style=\"text-align: right;\">\n",
       "      <th></th>\n",
       "      <th>0</th>\n",
       "      <th>1</th>\n",
       "      <th>2</th>\n",
       "      <th>3</th>\n",
       "    </tr>\n",
       "  </thead>\n",
       "  <tbody>\n",
       "    <tr>\n",
       "      <th>0</th>\n",
       "      <td>23</td>\n",
       "      <td>0</td>\n",
       "      <td>79</td>\n",
       "      <td>0</td>\n",
       "    </tr>\n",
       "    <tr>\n",
       "      <th>1</th>\n",
       "      <td>3</td>\n",
       "      <td>0</td>\n",
       "      <td>18</td>\n",
       "      <td>0</td>\n",
       "    </tr>\n",
       "    <tr>\n",
       "      <th>2</th>\n",
       "      <td>29</td>\n",
       "      <td>0</td>\n",
       "      <td>342</td>\n",
       "      <td>0</td>\n",
       "    </tr>\n",
       "    <tr>\n",
       "      <th>3</th>\n",
       "      <td>11</td>\n",
       "      <td>0</td>\n",
       "      <td>14</td>\n",
       "      <td>0</td>\n",
       "    </tr>\n",
       "  </tbody>\n",
       "</table>\n",
       "</div>"
      ],
      "text/plain": [
       "    0  1    2  3\n",
       "0  23  0   79  0\n",
       "1   3  0   18  0\n",
       "2  29  0  342  0\n",
       "3  11  0   14  0"
      ]
     },
     "execution_count": 292,
     "metadata": {},
     "output_type": "execute_result"
    }
   ],
   "source": [
    "pd.DataFrame(metrics.confusion_matrix(y_test, y_pred))"
   ]
  },
  {
   "cell_type": "markdown",
   "metadata": {},
   "source": [
    "## Decision Tree Classifier"
   ]
  },
  {
   "cell_type": "code",
   "execution_count": 331,
   "metadata": {},
   "outputs": [
    {
     "data": {
      "text/plain": [
       "DecisionTreeClassifier(class_weight=None, criterion='gini', max_depth=None,\n",
       "            max_features=None, max_leaf_nodes=None,\n",
       "            min_impurity_decrease=0.0, min_impurity_split=None,\n",
       "            min_samples_leaf=1, min_samples_split=2,\n",
       "            min_weight_fraction_leaf=0.0, presort=False, random_state=None,\n",
       "            splitter='best')"
      ]
     },
     "execution_count": 331,
     "metadata": {},
     "output_type": "execute_result"
    }
   ],
   "source": [
    "from sklearn.tree import DecisionTreeClassifier\n",
    "tree = DecisionTreeClassifier()\n",
    "tree.fit(X_train,y_train)"
   ]
  },
  {
   "cell_type": "code",
   "execution_count": 332,
   "metadata": {},
   "outputs": [
    {
     "data": {
      "text/plain": [
       "0.9922928709055877"
      ]
     },
     "execution_count": 332,
     "metadata": {},
     "output_type": "execute_result"
    }
   ],
   "source": [
    "y_pred = tree.predict(X_test)\n",
    "metrics.accuracy_score(y_pred,y_test)"
   ]
  },
  {
   "cell_type": "code",
   "execution_count": 333,
   "metadata": {},
   "outputs": [
    {
     "name": "stdout",
     "output_type": "stream",
     "text": [
      "0.9924092109436135\n",
      "0.9922928709055877\n",
      "0.992215580619664\n"
     ]
    }
   ],
   "source": [
    "dt_precision_score=metrics.precision_score(y_test, y_pred, average='weighted')\n",
    "dt_recall_score=metrics.recall_score(y_test, y_pred, average='weighted')\n",
    "dt_f1_score=metrics.f1_score(y_test, y_pred, average='weighted')\n",
    "print(dt_precision_score)\n",
    "print(dt_recall_score)\n",
    "print(dt_f1_score)"
   ]
  },
  {
   "cell_type": "code",
   "execution_count": 334,
   "metadata": {},
   "outputs": [
    {
     "name": "stdout",
     "output_type": "stream",
     "text": [
      "             precision    recall  f1-score   support\n",
      "\n",
      "        acc       0.97      0.99      0.98       102\n",
      "       good       1.00      0.90      0.95        21\n",
      "      unacc       1.00      1.00      1.00       371\n",
      "      vgood       1.00      0.96      0.98        25\n",
      "\n",
      "avg / total       0.99      0.99      0.99       519\n",
      "\n"
     ]
    }
   ],
   "source": [
    "print(metrics.classification_report(y_test, y_pred))"
   ]
  },
  {
   "cell_type": "code",
   "execution_count": 335,
   "metadata": {},
   "outputs": [
    {
     "name": "stdout",
     "output_type": "stream",
     "text": [
      "0.9922928709055877\n"
     ]
    }
   ],
   "source": [
    "dt_accuracy_score=metrics.accuracy_score(y_test, y_pred)\n",
    "print(dt_accuracy_score)"
   ]
  },
  {
   "cell_type": "markdown",
   "metadata": {},
   "source": [
    "## SVM"
   ]
  },
  {
   "cell_type": "code",
   "execution_count": 336,
   "metadata": {},
   "outputs": [],
   "source": [
    "from sklearn import svm\n",
    "model = svm.SVC(kernel=\"linear\", C=0.01)\n",
    "model = model.fit(X_train, y_train)"
   ]
  },
  {
   "cell_type": "code",
   "execution_count": 337,
   "metadata": {},
   "outputs": [
    {
     "data": {
      "text/plain": [
       "0.7148362235067437"
      ]
     },
     "execution_count": 337,
     "metadata": {},
     "output_type": "execute_result"
    }
   ],
   "source": [
    "y_pred = model.predict(X_test)\n",
    "model.score(X_test,y_test)"
   ]
  },
  {
   "cell_type": "code",
   "execution_count": 338,
   "metadata": {},
   "outputs": [
    {
     "name": "stdout",
     "output_type": "stream",
     "text": [
      "0.5109908264373832\n",
      "0.7148362235067437\n",
      "0.5959645818449482\n"
     ]
    },
    {
     "name": "stderr",
     "output_type": "stream",
     "text": [
      "C:\\Users\\Preetham\\Anaconda3\\lib\\site-packages\\sklearn\\metrics\\classification.py:1135: UndefinedMetricWarning:\n",
      "\n",
      "Precision is ill-defined and being set to 0.0 in labels with no predicted samples.\n",
      "\n",
      "C:\\Users\\Preetham\\Anaconda3\\lib\\site-packages\\sklearn\\metrics\\classification.py:1135: UndefinedMetricWarning:\n",
      "\n",
      "F-score is ill-defined and being set to 0.0 in labels with no predicted samples.\n",
      "\n"
     ]
    }
   ],
   "source": [
    "svm_precision_score=metrics.precision_score(y_test, y_pred, average='weighted')\n",
    "svm_recall_score=metrics.recall_score(y_test, y_pred, average='weighted')\n",
    "svm_f1_score=metrics.f1_score(y_test, y_pred, average='weighted')\n",
    "print(svm_precision_score)\n",
    "print(svm_recall_score)\n",
    "print(svm_f1_score)"
   ]
  },
  {
   "cell_type": "code",
   "execution_count": 340,
   "metadata": {},
   "outputs": [
    {
     "name": "stdout",
     "output_type": "stream",
     "text": [
      "             precision    recall  f1-score   support\n",
      "\n",
      "        acc       0.00      0.00      0.00       102\n",
      "       good       0.00      0.00      0.00        21\n",
      "      unacc       0.71      1.00      0.83       371\n",
      "      vgood       0.00      0.00      0.00        25\n",
      "\n",
      "avg / total       0.51      0.71      0.60       519\n",
      "\n"
     ]
    },
    {
     "name": "stderr",
     "output_type": "stream",
     "text": [
      "C:\\Users\\Preetham\\Anaconda3\\lib\\site-packages\\sklearn\\metrics\\classification.py:1135: UndefinedMetricWarning:\n",
      "\n",
      "Precision and F-score are ill-defined and being set to 0.0 in labels with no predicted samples.\n",
      "\n"
     ]
    }
   ],
   "source": [
    "print(metrics.classification_report(y_test, y_pred))"
   ]
  },
  {
   "cell_type": "code",
   "execution_count": 342,
   "metadata": {},
   "outputs": [
    {
     "name": "stdout",
     "output_type": "stream",
     "text": [
      "0.7148362235067437\n"
     ]
    }
   ],
   "source": [
    "svm_accuracy_score=metrics.accuracy_score(y_test, y_pred)\n",
    "print(svm_accuracy_score)"
   ]
  },
  {
   "cell_type": "markdown",
   "metadata": {},
   "source": [
    "## K Nearest Neighbours"
   ]
  },
  {
   "cell_type": "code",
   "execution_count": 308,
   "metadata": {},
   "outputs": [],
   "source": [
    "# importing necessary libraries \n",
    "from sklearn import datasets \n",
    "from sklearn.metrics import confusion_matrix \n",
    "from sklearn.model_selection import train_test_split \n",
    "import pandas as pd"
   ]
  },
  {
   "cell_type": "code",
   "execution_count": 309,
   "metadata": {},
   "outputs": [],
   "source": [
    "knn_df=pd.read_csv('car_data.csv',sep='\\t',header=None)"
   ]
  },
  {
   "cell_type": "code",
   "execution_count": 310,
   "metadata": {},
   "outputs": [
    {
     "data": {
      "text/html": [
       "<div>\n",
       "<style scoped>\n",
       "    .dataframe tbody tr th:only-of-type {\n",
       "        vertical-align: middle;\n",
       "    }\n",
       "\n",
       "    .dataframe tbody tr th {\n",
       "        vertical-align: top;\n",
       "    }\n",
       "\n",
       "    .dataframe thead th {\n",
       "        text-align: right;\n",
       "    }\n",
       "</style>\n",
       "<table border=\"1\" class=\"dataframe\">\n",
       "  <thead>\n",
       "    <tr style=\"text-align: right;\">\n",
       "      <th></th>\n",
       "      <th>Buying</th>\n",
       "      <th>Maintainence</th>\n",
       "      <th>Doors</th>\n",
       "      <th>Persons</th>\n",
       "      <th>Lug Boot</th>\n",
       "      <th>Safety</th>\n",
       "      <th>Class</th>\n",
       "    </tr>\n",
       "  </thead>\n",
       "  <tbody>\n",
       "    <tr>\n",
       "      <th>0</th>\n",
       "      <td>vhigh</td>\n",
       "      <td>vhigh</td>\n",
       "      <td>2</td>\n",
       "      <td>2</td>\n",
       "      <td>small</td>\n",
       "      <td>low</td>\n",
       "      <td>unacc</td>\n",
       "    </tr>\n",
       "    <tr>\n",
       "      <th>1</th>\n",
       "      <td>vhigh</td>\n",
       "      <td>vhigh</td>\n",
       "      <td>2</td>\n",
       "      <td>2</td>\n",
       "      <td>small</td>\n",
       "      <td>med</td>\n",
       "      <td>unacc</td>\n",
       "    </tr>\n",
       "    <tr>\n",
       "      <th>2</th>\n",
       "      <td>vhigh</td>\n",
       "      <td>vhigh</td>\n",
       "      <td>2</td>\n",
       "      <td>2</td>\n",
       "      <td>small</td>\n",
       "      <td>high</td>\n",
       "      <td>unacc</td>\n",
       "    </tr>\n",
       "    <tr>\n",
       "      <th>3</th>\n",
       "      <td>vhigh</td>\n",
       "      <td>vhigh</td>\n",
       "      <td>2</td>\n",
       "      <td>2</td>\n",
       "      <td>med</td>\n",
       "      <td>low</td>\n",
       "      <td>unacc</td>\n",
       "    </tr>\n",
       "    <tr>\n",
       "      <th>4</th>\n",
       "      <td>vhigh</td>\n",
       "      <td>vhigh</td>\n",
       "      <td>2</td>\n",
       "      <td>2</td>\n",
       "      <td>med</td>\n",
       "      <td>med</td>\n",
       "      <td>unacc</td>\n",
       "    </tr>\n",
       "  </tbody>\n",
       "</table>\n",
       "</div>"
      ],
      "text/plain": [
       "  Buying Maintainence Doors Persons Lug Boot Safety  Class\n",
       "0  vhigh        vhigh     2       2    small    low  unacc\n",
       "1  vhigh        vhigh     2       2    small    med  unacc\n",
       "2  vhigh        vhigh     2       2    small   high  unacc\n",
       "3  vhigh        vhigh     2       2      med    low  unacc\n",
       "4  vhigh        vhigh     2       2      med    med  unacc"
      ]
     },
     "execution_count": 310,
     "metadata": {},
     "output_type": "execute_result"
    }
   ],
   "source": [
    "# Rename Columns\n",
    "\n",
    "columns1 = ['Buying','Maintainence','Doors','Persons','Lug Boot','Safety','Class']\n",
    "knn_df.columns = columns1\n",
    "knn_df.head(5)"
   ]
  },
  {
   "cell_type": "code",
   "execution_count": 311,
   "metadata": {},
   "outputs": [
    {
     "data": {
      "text/plain": [
       "unacc    1210\n",
       "acc       384\n",
       "good       69\n",
       "vgood      65\n",
       "Name: Class, dtype: int64"
      ]
     },
     "execution_count": 311,
     "metadata": {},
     "output_type": "execute_result"
    }
   ],
   "source": [
    "\n",
    "knn_df.Class.value_counts()\n"
   ]
  },
  {
   "cell_type": "code",
   "execution_count": 312,
   "metadata": {},
   "outputs": [],
   "source": [
    "# Convert our categorical data\n",
    "\n",
    "from sklearn.preprocessing import LabelEncoder\n",
    "encode = LabelEncoder()\n",
    "\n",
    "knn_df['Buying'] = encode.fit_transform(knn_df['Buying'])\n",
    "knn_df['Maintainence'] = encode.fit_transform(knn_df['Maintainence'])\n",
    "knn_df['Doors'] = encode.fit_transform(knn_df['Doors'])\n",
    "knn_df['Persons'] = encode.fit_transform(knn_df['Persons'])\n",
    "knn_df['Lug Boot'] = encode.fit_transform(knn_df['Lug Boot'])\n",
    "knn_df['Safety'] = encode.fit_transform(knn_df['Safety'])\n",
    "knn_df['Class'] = encode.fit_transform(knn_df['Class'])"
   ]
  },
  {
   "cell_type": "code",
   "execution_count": 313,
   "metadata": {},
   "outputs": [],
   "source": [
    "y_knn = knn_df['Class']"
   ]
  },
  {
   "cell_type": "code",
   "execution_count": 314,
   "metadata": {},
   "outputs": [],
   "source": [
    "# dividing X, y into train and test data \n",
    "X_train_knn, X_test_knn, y_train_knn, y_test_knn = train_test_split(knn_df, y_knn,test_size=0.3, random_state = 0) "
   ]
  },
  {
   "cell_type": "code",
   "execution_count": 315,
   "metadata": {},
   "outputs": [],
   "source": [
    "# training a KNN classifier \n",
    "from sklearn.neighbors import KNeighborsClassifier \n",
    "knn = KNeighborsClassifier(n_neighbors = 7).fit(X_train_knn, y_train_knn) \n",
    "  "
   ]
  },
  {
   "cell_type": "code",
   "execution_count": 316,
   "metadata": {},
   "outputs": [
    {
     "name": "stdout",
     "output_type": "stream",
     "text": [
      "0.9980732177263969\n"
     ]
    }
   ],
   "source": [
    "# accuracy on X_test \n",
    "accuracy = knn.score(X_test_knn, y_test_knn) \n",
    "print(accuracy )"
   ]
  },
  {
   "cell_type": "code",
   "execution_count": 317,
   "metadata": {},
   "outputs": [],
   "source": [
    "# creating a confusion matrix \n",
    "knn_predictions = knn.predict(X_test_knn)  \n",
    "cm = confusion_matrix(y_test_knn, knn_predictions) \n"
   ]
  },
  {
   "cell_type": "code",
   "execution_count": 318,
   "metadata": {},
   "outputs": [
    {
     "data": {
      "text/plain": [
       "[(2, 2),\n",
       " (2, 2),\n",
       " (2, 2),\n",
       " (2, 2),\n",
       " (2, 2),\n",
       " (1, 1),\n",
       " (2, 2),\n",
       " (0, 0),\n",
       " (0, 0),\n",
       " (2, 2),\n",
       " (2, 2),\n",
       " (2, 2),\n",
       " (0, 0),\n",
       " (2, 2),\n",
       " (2, 2),\n",
       " (0, 0),\n",
       " (2, 2),\n",
       " (2, 2),\n",
       " (0, 0),\n",
       " (2, 2),\n",
       " (1, 1),\n",
       " (0, 0),\n",
       " (0, 0),\n",
       " (2, 2),\n",
       " (2, 2),\n",
       " (2, 2),\n",
       " (2, 2),\n",
       " (2, 2),\n",
       " (2, 2),\n",
       " (2, 2),\n",
       " (1, 1),\n",
       " (0, 0),\n",
       " (2, 2),\n",
       " (0, 0),\n",
       " (1, 1),\n",
       " (2, 2),\n",
       " (2, 2),\n",
       " (2, 2),\n",
       " (2, 2),\n",
       " (2, 2),\n",
       " (2, 2),\n",
       " (2, 2),\n",
       " (2, 2),\n",
       " (2, 2),\n",
       " (3, 3),\n",
       " (2, 2),\n",
       " (2, 2),\n",
       " (0, 0),\n",
       " (2, 2),\n",
       " (2, 2),\n",
       " (2, 2),\n",
       " (2, 2),\n",
       " (2, 2),\n",
       " (2, 2),\n",
       " (2, 2),\n",
       " (2, 2),\n",
       " (2, 2),\n",
       " (2, 2),\n",
       " (2, 2),\n",
       " (0, 0),\n",
       " (0, 0),\n",
       " (2, 2),\n",
       " (2, 2),\n",
       " (2, 2),\n",
       " (2, 2),\n",
       " (0, 0),\n",
       " (2, 2),\n",
       " (2, 2),\n",
       " (2, 2),\n",
       " (2, 2),\n",
       " (2, 2),\n",
       " (0, 0),\n",
       " (0, 0),\n",
       " (0, 0),\n",
       " (0, 0),\n",
       " (0, 0),\n",
       " (2, 2),\n",
       " (0, 0),\n",
       " (0, 0),\n",
       " (2, 2),\n",
       " (0, 0),\n",
       " (0, 0),\n",
       " (0, 0),\n",
       " (2, 2),\n",
       " (2, 2),\n",
       " (2, 2),\n",
       " (2, 2),\n",
       " (1, 1),\n",
       " (2, 2),\n",
       " (2, 2),\n",
       " (2, 2),\n",
       " (0, 0),\n",
       " (2, 2),\n",
       " (2, 2),\n",
       " (2, 2),\n",
       " (3, 3),\n",
       " (2, 2),\n",
       " (0, 0),\n",
       " (0, 0),\n",
       " (2, 2),\n",
       " (2, 2),\n",
       " (2, 2),\n",
       " (0, 0),\n",
       " (2, 2),\n",
       " (3, 3),\n",
       " (0, 0),\n",
       " (2, 2),\n",
       " (0, 0),\n",
       " (2, 2),\n",
       " (2, 2),\n",
       " (2, 2),\n",
       " (2, 2),\n",
       " (2, 2),\n",
       " (0, 0),\n",
       " (2, 2),\n",
       " (1, 1),\n",
       " (0, 0),\n",
       " (2, 2),\n",
       " (2, 2),\n",
       " (2, 2),\n",
       " (2, 2),\n",
       " (2, 2),\n",
       " (3, 3),\n",
       " (2, 2),\n",
       " (2, 2),\n",
       " (2, 2),\n",
       " (2, 2),\n",
       " (0, 0),\n",
       " (1, 1),\n",
       " (2, 2),\n",
       " (2, 2),\n",
       " (2, 2),\n",
       " (0, 0),\n",
       " (2, 2),\n",
       " (2, 2),\n",
       " (2, 2),\n",
       " (2, 2),\n",
       " (2, 2),\n",
       " (2, 2),\n",
       " (2, 2),\n",
       " (2, 2),\n",
       " (2, 2),\n",
       " (2, 2),\n",
       " (0, 0),\n",
       " (2, 2),\n",
       " (2, 2),\n",
       " (0, 0),\n",
       " (2, 2),\n",
       " (0, 0),\n",
       " (0, 0),\n",
       " (0, 0),\n",
       " (0, 0),\n",
       " (2, 2),\n",
       " (2, 2),\n",
       " (2, 2),\n",
       " (0, 0),\n",
       " (2, 2),\n",
       " (2, 2),\n",
       " (2, 2),\n",
       " (2, 2),\n",
       " (0, 0),\n",
       " (2, 2),\n",
       " (2, 2),\n",
       " (2, 2),\n",
       " (0, 0),\n",
       " (2, 2),\n",
       " (2, 2),\n",
       " (2, 2),\n",
       " (2, 2),\n",
       " (2, 2),\n",
       " (2, 2),\n",
       " (2, 2),\n",
       " (2, 2),\n",
       " (2, 2),\n",
       " (0, 0),\n",
       " (2, 2),\n",
       " (2, 2),\n",
       " (2, 2),\n",
       " (2, 2),\n",
       " (2, 2),\n",
       " (0, 0),\n",
       " (0, 0),\n",
       " (0, 0),\n",
       " (2, 2),\n",
       " (0, 0),\n",
       " (2, 2),\n",
       " (1, 1),\n",
       " (2, 2),\n",
       " (2, 2),\n",
       " (2, 2),\n",
       " (2, 2),\n",
       " (0, 0),\n",
       " (2, 2),\n",
       " (2, 2),\n",
       " (2, 2),\n",
       " (0, 0),\n",
       " (2, 2),\n",
       " (1, 1),\n",
       " (2, 2),\n",
       " (2, 2),\n",
       " (2, 2),\n",
       " (2, 2),\n",
       " (0, 0),\n",
       " (2, 2),\n",
       " (2, 2),\n",
       " (2, 2),\n",
       " (2, 2),\n",
       " (2, 2),\n",
       " (2, 2),\n",
       " (2, 2),\n",
       " (2, 2),\n",
       " (0, 0),\n",
       " (2, 2),\n",
       " (2, 2),\n",
       " (2, 2),\n",
       " (2, 2),\n",
       " (2, 2),\n",
       " (0, 0),\n",
       " (2, 2),\n",
       " (2, 2),\n",
       " (2, 2),\n",
       " (0, 0),\n",
       " (2, 2),\n",
       " (3, 3),\n",
       " (2, 2),\n",
       " (2, 2),\n",
       " (2, 2),\n",
       " (3, 3),\n",
       " (2, 2),\n",
       " (2, 2),\n",
       " (2, 2),\n",
       " (2, 2),\n",
       " (0, 0),\n",
       " (2, 2),\n",
       " (2, 2),\n",
       " (2, 2),\n",
       " (2, 2),\n",
       " (2, 2),\n",
       " (2, 2),\n",
       " (2, 2),\n",
       " (2, 2),\n",
       " (2, 2),\n",
       " (2, 2),\n",
       " (2, 2),\n",
       " (1, 1),\n",
       " (2, 2),\n",
       " (0, 0),\n",
       " (2, 2),\n",
       " (2, 2),\n",
       " (2, 2),\n",
       " (2, 2),\n",
       " (2, 2),\n",
       " (1, 1),\n",
       " (0, 0),\n",
       " (0, 0),\n",
       " (0, 0),\n",
       " (0, 0),\n",
       " (2, 2),\n",
       " (2, 2),\n",
       " (2, 2),\n",
       " (0, 0),\n",
       " (2, 2),\n",
       " (2, 2),\n",
       " (0, 0),\n",
       " (2, 2),\n",
       " (2, 2),\n",
       " (3, 3),\n",
       " (2, 2),\n",
       " (0, 0),\n",
       " (2, 2),\n",
       " (2, 2),\n",
       " (2, 2),\n",
       " (0, 0),\n",
       " (2, 2),\n",
       " (0, 0),\n",
       " (2, 2),\n",
       " (2, 2),\n",
       " (2, 2),\n",
       " (2, 2),\n",
       " (2, 2),\n",
       " (2, 2),\n",
       " (2, 2),\n",
       " (0, 0),\n",
       " (2, 2),\n",
       " (2, 2),\n",
       " (0, 0),\n",
       " (2, 2),\n",
       " (3, 3),\n",
       " (1, 1),\n",
       " (2, 2),\n",
       " (2, 2),\n",
       " (2, 2),\n",
       " (2, 2),\n",
       " (2, 2),\n",
       " (2, 2),\n",
       " (2, 2),\n",
       " (2, 2),\n",
       " (2, 2),\n",
       " (2, 2),\n",
       " (0, 0),\n",
       " (2, 2),\n",
       " (0, 0),\n",
       " (0, 0),\n",
       " (1, 1),\n",
       " (1, 1),\n",
       " (2, 2),\n",
       " (0, 0),\n",
       " (2, 2),\n",
       " (0, 0),\n",
       " (2, 2),\n",
       " (1, 1),\n",
       " (0, 0),\n",
       " (2, 2),\n",
       " (2, 2),\n",
       " (2, 2),\n",
       " (2, 2),\n",
       " (2, 2),\n",
       " (2, 2),\n",
       " (2, 2),\n",
       " (0, 0),\n",
       " (2, 2),\n",
       " (2, 2),\n",
       " (0, 0),\n",
       " (2, 2),\n",
       " (0, 0),\n",
       " (0, 0),\n",
       " (2, 2),\n",
       " (2, 2),\n",
       " (2, 2),\n",
       " (2, 2),\n",
       " (0, 0),\n",
       " (2, 2),\n",
       " (1, 1),\n",
       " (2, 2),\n",
       " (1, 1),\n",
       " (2, 2),\n",
       " (2, 2),\n",
       " (2, 2),\n",
       " (3, 3),\n",
       " (2, 2),\n",
       " (2, 2),\n",
       " (3, 3),\n",
       " (2, 2),\n",
       " (0, 0),\n",
       " (2, 2),\n",
       " (0, 0),\n",
       " (2, 2),\n",
       " (2, 2),\n",
       " (2, 2),\n",
       " (2, 2),\n",
       " (0, 0),\n",
       " (2, 2),\n",
       " (2, 2),\n",
       " (0, 0),\n",
       " (2, 2),\n",
       " (2, 2),\n",
       " (2, 2),\n",
       " (0, 0),\n",
       " (2, 2),\n",
       " (0, 0),\n",
       " (2, 2),\n",
       " (0, 0),\n",
       " (2, 2),\n",
       " (2, 2),\n",
       " (1, 1),\n",
       " (3, 3),\n",
       " (0, 0),\n",
       " (0, 0),\n",
       " (2, 2),\n",
       " (3, 3),\n",
       " (2, 2),\n",
       " (2, 2),\n",
       " (2, 2),\n",
       " (0, 0),\n",
       " (2, 2),\n",
       " (2, 2),\n",
       " (2, 2),\n",
       " (0, 0),\n",
       " (2, 2),\n",
       " (0, 0),\n",
       " (1, 1),\n",
       " (2, 2),\n",
       " (0, 1),\n",
       " (2, 2),\n",
       " (2, 2),\n",
       " (2, 2),\n",
       " (0, 0),\n",
       " (2, 2),\n",
       " (2, 2),\n",
       " (2, 2),\n",
       " (2, 2),\n",
       " (2, 2),\n",
       " (2, 2),\n",
       " (3, 3),\n",
       " (2, 2),\n",
       " (2, 2),\n",
       " (0, 0),\n",
       " (2, 2),\n",
       " (2, 2),\n",
       " (0, 0),\n",
       " (2, 2),\n",
       " (0, 0),\n",
       " (2, 2),\n",
       " (2, 2),\n",
       " (3, 3),\n",
       " (2, 2),\n",
       " (2, 2),\n",
       " (2, 2),\n",
       " (2, 2),\n",
       " (0, 0),\n",
       " (2, 2),\n",
       " (2, 2),\n",
       " (2, 2),\n",
       " (2, 2),\n",
       " (2, 2),\n",
       " (2, 2),\n",
       " (0, 0),\n",
       " (0, 0),\n",
       " (2, 2),\n",
       " (0, 0),\n",
       " (2, 2),\n",
       " (1, 1),\n",
       " (3, 3),\n",
       " (2, 2),\n",
       " (2, 2),\n",
       " (2, 2),\n",
       " (3, 3),\n",
       " (2, 2),\n",
       " (2, 2),\n",
       " (0, 0),\n",
       " (2, 2),\n",
       " (0, 0),\n",
       " (2, 2),\n",
       " (2, 2),\n",
       " (2, 2),\n",
       " (2, 2),\n",
       " (2, 2),\n",
       " (2, 2),\n",
       " (0, 0),\n",
       " (0, 0),\n",
       " (0, 0),\n",
       " (2, 2),\n",
       " (2, 2),\n",
       " (2, 2),\n",
       " (2, 2),\n",
       " (2, 2),\n",
       " (0, 0),\n",
       " (2, 2),\n",
       " (2, 2),\n",
       " (2, 2),\n",
       " (2, 2),\n",
       " (2, 2),\n",
       " (2, 2),\n",
       " (2, 2),\n",
       " (2, 2),\n",
       " (2, 2),\n",
       " (2, 2),\n",
       " (2, 2),\n",
       " (2, 2),\n",
       " (2, 2),\n",
       " (2, 2),\n",
       " (2, 2),\n",
       " (2, 2),\n",
       " (2, 2),\n",
       " (2, 2),\n",
       " (0, 0),\n",
       " (1, 1),\n",
       " (2, 2),\n",
       " (0, 0),\n",
       " (2, 2),\n",
       " (2, 2),\n",
       " (2, 2),\n",
       " (2, 2),\n",
       " (2, 2),\n",
       " (2, 2),\n",
       " (2, 2),\n",
       " (2, 2),\n",
       " (0, 0),\n",
       " (0, 0),\n",
       " (2, 2),\n",
       " (2, 2),\n",
       " (2, 2),\n",
       " (2, 2),\n",
       " (0, 0),\n",
       " (0, 0),\n",
       " (2, 2),\n",
       " (2, 2),\n",
       " (2, 2),\n",
       " (2, 2),\n",
       " (2, 2),\n",
       " (2, 2),\n",
       " (2, 2),\n",
       " (2, 2),\n",
       " (0, 0),\n",
       " (0, 0),\n",
       " (2, 2),\n",
       " (2, 2),\n",
       " (1, 1),\n",
       " (2, 2),\n",
       " (2, 2),\n",
       " (0, 0),\n",
       " (2, 2),\n",
       " (1, 1),\n",
       " (2, 2),\n",
       " (2, 2),\n",
       " (1, 1),\n",
       " (2, 2),\n",
       " (2, 2),\n",
       " (2, 2),\n",
       " (2, 2),\n",
       " (0, 0),\n",
       " (2, 2),\n",
       " (2, 2),\n",
       " (2, 2),\n",
       " (2, 2),\n",
       " (2, 2),\n",
       " (2, 2),\n",
       " (0, 0),\n",
       " (0, 0)]"
      ]
     },
     "execution_count": 318,
     "metadata": {},
     "output_type": "execute_result"
    }
   ],
   "source": [
    "list(zip(knn_predictions,y_test_knn))"
   ]
  },
  {
   "cell_type": "code",
   "execution_count": 319,
   "metadata": {},
   "outputs": [
    {
     "data": {
      "text/plain": [
       "<matplotlib.axes._subplots.AxesSubplot at 0x189452541d0>"
      ]
     },
     "execution_count": 319,
     "metadata": {},
     "output_type": "execute_result"
    },
    {
     "data": {
      "image/png": "[encoded data removed]",
      "text/plain": [
       "<Figure size 720x504 with 2 Axes>"
      ]
     },
     "metadata": {},
     "output_type": "display_data"
    }
   ],
   "source": [
    "import seaborn as sn\n",
    "import pandas as pd\n",
    "import matplotlib.pyplot as plt\n",
    "\n",
    "df_cm = pd.DataFrame(cm, index = [i for i in [\"Acc\",'Good','Very Good','UnAcc']],\n",
    "                  columns = [i for i in [\"Acc\",'Good','Very Good','UnAcc']])\n",
    "plt.figure(figsize = (10,7))\n",
    "sn.heatmap(df_cm, annot=True,cmap='Blues', fmt='g')"
   ]
  },
  {
   "cell_type": "code",
   "execution_count": 320,
   "metadata": {},
   "outputs": [],
   "source": [
    "from sklearn import metrics"
   ]
  },
  {
   "cell_type": "code",
   "execution_count": 343,
   "metadata": {},
   "outputs": [
    {
     "name": "stdout",
     "output_type": "stream",
     "text": [
      "0.9980898279184106\n",
      "0.9980732177263969\n",
      "0.9980577272071905\n"
     ]
    }
   ],
   "source": [
    "knn_precision_score=metrics.precision_score(y_test_knn, knn_predictions, average='weighted')\n",
    "knn_recall_score=metrics.recall_score(y_test_knn, knn_predictions, average='weighted')\n",
    "knn_f1_score=metrics.f1_score(y_test_knn, knn_predictions, average='weighted')\n",
    "print(knn_precision_score)\n",
    "print(knn_recall_score)\n",
    "print(knn_f1_score)"
   ]
  },
  {
   "cell_type": "code",
   "execution_count": 344,
   "metadata": {},
   "outputs": [
    {
     "name": "stdout",
     "output_type": "stream",
     "text": [
      "0.9980732177263969\n"
     ]
    }
   ],
   "source": [
    "knn_accuracy_score=metrics.accuracy_score(y_test_knn, knn_predictions)\n",
    "print(knn_accuracy_score)"
   ]
  },
  {
   "cell_type": "code",
   "execution_count": 322,
   "metadata": {},
   "outputs": [
    {
     "name": "stdout",
     "output_type": "stream",
     "text": [
      "             precision    recall  f1-score   support\n",
      "\n",
      "          0       0.99      1.00      1.00       115\n",
      "          1       1.00      0.96      0.98        25\n",
      "          2       1.00      1.00      1.00       363\n",
      "          3       1.00      1.00      1.00        16\n",
      "\n",
      "avg / total       1.00      1.00      1.00       519\n",
      "\n"
     ]
    }
   ],
   "source": [
    "print(metrics.classification_report(y_test_knn, knn_predictions))"
   ]
  },
  {
   "cell_type": "code",
   "execution_count": 375,
   "metadata": {},
   "outputs": [
    {
     "data": {
      "text/html": [
       "<iframe id=\"igraph\" scrolling=\"no\" style=\"border:none;\" seamless=\"seamless\" src=\"https://plot.ly/~preetham_amin/8.embed\" height=\"800px\" width=\"980px\"></iframe>"
      ],
      "text/plain": [
       "<plotly.tools.PlotlyDisplay object>"
      ]
     },
     "execution_count": 375,
     "metadata": {},
     "output_type": "execute_result"
    }
   ],
   "source": [
    "import plotly.plotly as py\n",
    "import plotly.graph_objs as go\n",
    "\n",
    "trace1 = go.Bar(\n",
    "    x=['Precision Score', 'Recall Score', 'F1 Score','Accuracy'],\n",
    "    y=[lr_precision_score,lr_recall_score ,lr_f1_score,lr_accuracy_score],\n",
    "    name='Logistic Regression'\n",
    ")\n",
    "trace2 = go.Bar(\n",
    "     x=['Precision Score', 'Recall Score', 'F1 Score','Accuracy'],\n",
    "    y=[dt_precision_score,dt_recall_score ,dt_f1_score,dt_accuracy_score],\n",
    "    name='Decision Tree Classifier'\n",
    ")\n",
    "trace3 = go.Bar(\n",
    "     x=['Precision Score', 'Recall Score', 'F1 Score','Accuracy'],\n",
    "    y=[svm_precision_score,svm_recall_score ,svm_f1_score,svm_accuracy_score],\n",
    "    name='SVM'\n",
    ")\n",
    "trace4 = go.Bar(\n",
    "     x=['Precision Score', 'Recall Score', 'F1 Score','Accuracy'],\n",
    "    y=[knn_precision_score,knn_recall_score ,knn_f1_score,knn_accuracy_score],\n",
    "    name='KNN'\n",
    ")\n",
    "\n",
    "data = [trace1, trace2,trace3,trace4]\n",
    "layout = go.Layout(\n",
    "    autosize=False,\n",
    "    width=980,\n",
    "    height=800,\n",
    "    barmode='group',\n",
    "    yaxis=dict(\n",
    "        type='linear',\n",
    "        autorange=True,\n",
    "        showgrid=True,\n",
    "        zeroline=True,\n",
    "        showline=True,\n",
    "        dtick=0.1,\n",
    "        showticklabels=True,\n",
    "        range=[0.4,1]\n",
    "    )\n",
    ")\n",
    "\n",
    "fig = go.Figure(data=data, layout=layout)\n",
    "py.iplot(fig, filename='grouped-bar')"
   ]
  }
 ],
 "metadata": {
  "kernelspec": {
   "display_name": "Python 3",
   "language": "python",
   "name": "python3"
  },
  "language_info": {
   "codemirror_mode": {
    "name": "ipython",
    "version": 3
   },
   "file_extension": ".py",
   "mimetype": "text/x-python",
   "name": "python",
   "nbconvert_exporter": "python",
   "pygments_lexer": "ipython3",
   "version": "3.6.5"
  }
 },
 "nbformat": 4,
 "nbformat_minor": 2
}
